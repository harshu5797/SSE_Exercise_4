{
 "cells": [
  {
   "cell_type": "markdown",
   "metadata": {},
   "source": [
    "\n"
   ]
  },
  {
   "cell_type": "markdown",
   "metadata": {},
   "source": [
    "# Load libraries"
   ]
  },
  {
   "cell_type": "code",
   "execution_count": 283,
   "metadata": {},
   "outputs": [],
   "source": [
    "import numpy as np\n",
    "import pandas as pd\n",
    "import os\n",
    "from datetime import datetime\n",
    "import re\n",
    "\n",
    "\n",
    "# Specify git executable file for GitPython in Jupyter Notebook (In IDE, it can still work without this line.)\n",
    "os.environ[\"GIT_PYTHON_GIT_EXECUTABLE\"] = \"C:\\Program Files\\Git\\cmd\\git.exe\"\n",
    "\n",
    "import git\n",
    "from git import RemoteProgress\n",
    "\n",
    "from git import Repo\n",
    "import matplotlib.pyplot as plt\n",
    "import seaborn as sns\n",
    "%matplotlib inline"
   ]
  },
  {
   "cell_type": "markdown",
   "metadata": {},
   "source": [
    "# Clone repo from GitHub"
   ]
  },
  {
   "cell_type": "markdown",
   "metadata": {},
   "source": [
    "Link: https://git-scm.com/docs/git-clone <br>\n",
    "<b>Note:</b> In case too-long file path issue occurs in Windows, set <code>git config --system core.longpaths true</code>"
   ]
  },
  {
   "cell_type": "code",
   "execution_count": 284,
   "metadata": {},
   "outputs": [],
   "source": [
    "class Progress(RemoteProgress):\n",
    "    def update(self, op_code, cur_count, max_count=None, message=''):\n",
    "        print(self._cur_line)"
   ]
  },
  {
   "cell_type": "code",
   "execution_count": 285,
   "metadata": {},
   "outputs": [],
   "source": [
    "#remote_link = \"https://github.com/phpmyadmin/phpmyadmin\"\n",
    "local_link = \"fusionauth-jwt\"\n",
    "# Uncomment to clone\n",
    "# Repo.clone_from(remote_link, local_link, progress=Progress())"
   ]
  },
  {
   "cell_type": "code",
   "execution_count": 286,
   "metadata": {},
   "outputs": [],
   "source": [
    "repo = Repo(local_link)\n",
    "fixing_commit = \"abb0d479389a2509f939452a6767dc424bb5e6ba\"\n",
    "affected_file = \"src/test/java/org/primeframework/jwt/VulnerabilityTest.java\""
   ]
  },
  {
   "cell_type": "markdown",
   "metadata": {},
   "source": [
    "# A) Show info of a commit\n",
    "Link: https://git-scm.com/docs/git-show\n",
    "You can explore different parameters."
   ]
  },
  {
   "cell_type": "code",
   "execution_count": 287,
   "metadata": {
    "scrolled": true
   },
   "outputs": [
    {
     "name": "stdout",
     "output_type": "stream",
     "text": [
      "commit abb0d479389a2509f939452a6767dc424bb5e6ba\n",
      "Author: Daniel DeGroff <daniel@inversoft.com>\n",
      "Date:   Wed May 2 09:31:18 2018 -0600\n",
      "\n",
      "    Fixing issue #3 and adding tests to confirm.\n"
     ]
    }
   ],
   "source": [
    "show_data = repo.git.show(\"-s\", fixing_commit).splitlines()\n",
    "for line in show_data:\n",
    "    print(line)"
   ]
  },
  {
   "cell_type": "markdown",
   "metadata": {},
   "source": [
    "# B) Show total files affected in the fixing commit"
   ]
  },
  {
   "cell_type": "code",
   "execution_count": 288,
   "metadata": {
    "scrolled": true
   },
   "outputs": [
    {
     "name": "stdout",
     "output_type": "stream",
     "text": [
      "commit abb0d479389a2509f939452a6767dc424bb5e6ba\n",
      "Author: Daniel DeGroff <daniel@inversoft.com>\n",
      "Date:   Wed May 2 09:31:18 2018 -0600\n",
      "\n",
      "    Fixing issue #3 and adding tests to confirm.\n",
      "\n",
      " .../java/org/primeframework/jwt/JWTDecoder.java    | 12 ++++++---\n",
      " .../org/primeframework/jwt/VulnerabilityTest.java  | 29 +++++++++++++++++++---\n",
      " 2 files changed, 34 insertions(+), 7 deletions(-)\n"
     ]
    }
   ],
   "source": [
    "show_total_files_affected = repo.git.show (\"--stat\", fixing_commit).splitlines()\n",
    "for line in show_total_files_affected:\n",
    "    print(line)"
   ]
  },
  {
   "cell_type": "markdown",
   "metadata": {},
   "source": [
    "# C) Show total directories affected in the fixing commit"
   ]
  },
  {
   "cell_type": "code",
   "execution_count": 289,
   "metadata": {
    "scrolled": true
   },
   "outputs": [
    {
     "name": "stdout",
     "output_type": "stream",
     "text": [
      "commit abb0d479389a2509f939452a6767dc424bb5e6ba\n",
      "Author: Daniel DeGroff <daniel@inversoft.com>\n",
      "Date:   Wed May 2 09:31:18 2018 -0600\n",
      "\n",
      "    Fixing issue #3 and adding tests to confirm.\n",
      "\n",
      "  19.7% src/main/java/org/primeframework/jwt/\n",
      "  80.2% src/test/java/org/primeframework/jwt/\n"
     ]
    }
   ],
   "source": [
    "show_total_directories_affected = repo.git.show (\"--dirstat\", fixing_commit).splitlines()\n",
    "for line in show_total_directories_affected:\n",
    "    print(line)"
   ]
  },
  {
   "cell_type": "markdown",
   "metadata": {},
   "source": [
    "# D) Show total lines of code deleted including comments and blank lines"
   ]
  },
  {
   "cell_type": "code",
   "execution_count": 290,
   "metadata": {},
   "outputs": [
    {
     "name": "stdout",
     "output_type": "stream",
     "text": [
      " 7 deletions(-)\n"
     ]
    }
   ],
   "source": [
    "show_total_lines_deleted = repo.git.show (\"--shortstat\", fixing_commit).splitlines()\n",
    "show_total_lines_deleted.reverse()\n",
    "show_total_lines_deleted = show_total_lines_deleted[0].split(',') \n",
    "print(show_total_lines_deleted[2])"
   ]
  },
  {
   "cell_type": "markdown",
   "metadata": {},
   "source": [
    "# E) Show total lines of code added including comments and blank lines"
   ]
  },
  {
   "cell_type": "code",
   "execution_count": 291,
   "metadata": {
    "scrolled": true
   },
   "outputs": [
    {
     "name": "stdout",
     "output_type": "stream",
     "text": [
      " 34 insertions(+)\n"
     ]
    }
   ],
   "source": [
    "show_total_lines_added = repo.git.show (\"--shortstat\", fixing_commit).splitlines()\n",
    "show_total_lines_added.reverse()\n",
    "show_total_lines_added = show_total_lines_added[0].split(',') \n",
    "print(show_total_lines_added[1])"
   ]
  },
  {
   "cell_type": "markdown",
   "metadata": {},
   "source": [
    "# F) Show total lines of code deleted excluding comments and blank lines"
   ]
  },
  {
   "cell_type": "code",
   "execution_count": 292,
   "metadata": {},
   "outputs": [
    {
     "name": "stdout",
     "output_type": "stream",
     "text": [
      "-    int index = encodedJWT.lastIndexOf(\".\");\n",
      "-    // The message comprises the first two segments of the entire JWT, the signature is the last segment.\n",
      "-    byte[] message = encodedJWT.substring(0, index).getBytes(StandardCharsets.UTF_8);\n",
      "-    expectException(InvalidJWTException.class, ()\n",
      "-        -> JWT.getDecoder().decode(hackedJWT, HMACVerifier.newVerifier(\"secret\")));\n",
      "-    expectException(MissingVerifierException.class, ()\n",
      "-        -> JWT.getDecoder().decode(encodedJWT));\n",
      "Total lines of code deleted excluding comments and blank lines = 0\n"
     ]
    }
   ],
   "source": [
    "show_total_lines_deleted = repo.git.show(\"-U0\",\"--pretty=\"\"\",fixing_commit).splitlines()\n",
    "temp_line_deleted = []\n",
    "t_l_deleted = 0\n",
    "for line in show_total_lines_deleted:\n",
    "    if re.search(\"^\\-\",line):\n",
    "        l = line.split(\" \")\n",
    "        if(len(l) > 1):\n",
    "            if(len(l[0])==1):\n",
    "                if(l[1][:1] != '*' or l[1][:1] !='/'):\n",
    "                    print(line)\n",
    "                    t_l_add += 1\n",
    "print(\"Total lines of code deleted excluding comments and blank lines = \"+ str(t_l_deleted))\n",
    "            "
   ]
  },
  {
   "cell_type": "markdown",
   "metadata": {},
   "source": [
    "# G) Show total lines of code added excluding comments and blank lines"
   ]
  },
  {
   "cell_type": "code",
   "execution_count": 293,
   "metadata": {
    "scrolled": true
   },
   "outputs": [
    {
     "name": "stdout",
     "output_type": "stream",
     "text": [
      "+    // The callers of this decode will have already handled 'none' if it was deemed to be valid based upon\n",
      "+    // the provided verifiers. At this point, if we have a 'none' algorithm specified in the header, it is invalid.\n",
      "+    if (header.algorithm == Algorithm.none) {\n",
      "+      throw new MissingVerifierException(\"No Verifier has been provided for verify a signature signed using [\" + header.algorithm.getName() + \"]\");\n",
      "+    }\n",
      "+    int index = encodedJWT.lastIndexOf(\".\");\n",
      "+    // The message comprises the first two segments of the entire JWT, the signature is the last segment.\n",
      "+    byte[] message = encodedJWT.substring(0, index).getBytes(StandardCharsets.UTF_8);\n",
      "+    expectException(InvalidJWTException.class, () -> JWT.getDecoder().decode(hackedJWT, HMACVerifier.newVerifier(\"secret\")));\n",
      "+    expectException(MissingVerifierException.class, () -> JWT.getDecoder().decode(encodedJWT));\n",
      "+  }\n",
      "+  @Test\n",
      "+  public void test_unsecuredJWT_validation() throws Exception {\n",
      "+    JWT jwt = new JWT().setSubject(\"123456789\");\n",
      "+    Signer signer = new UnsecuredSigner();\n",
      "+    Verifier hmacVerifier = HMACVerifier.newVerifier(\"too many secrets\");\n",
      "+    String encodedUnsecuredJWT = JWTEncoder.getInstance().encode(jwt, signer);\n",
      "+    // Ensure that attempting to decode an un-secured JWT fails when we provide a verifier\n",
      "+    expectException(MissingVerifierException.class, () -> JWT.getDecoder().decode(encodedUnsecuredJWT, hmacVerifier));\n",
      "+    String encodedUnsecuredJWT_withKid = JWTEncoder.getInstance().encode(jwt, signer, (header) -> header.set(\"kid\", \"abc\"));\n",
      "+    String encodedUnsecuredJWT_withoutKid = JWTEncoder.getInstance().encode(jwt, signer);\n",
      "+    Map<String, Verifier> verifierMap = new HashMap<>();\n",
      "+    verifierMap.put(null, hmacVerifier);\n",
      "+    verifierMap.put(\"abc\", hmacVerifier);\n",
      "+    // Ensure that attempting to decode an un-secured JWT fails when we provide a verifier with or without using a kid\n",
      "+    expectException(MissingVerifierException.class, () -> JWT.getDecoder().decode(encodedUnsecuredJWT_withKid, verifierMap));\n",
      "+    expectException(MissingVerifierException.class, () -> JWT.getDecoder().decode(encodedUnsecuredJWT_withoutKid, verifierMap));\n",
      "Total lines of code added excluding comments and blank lines = 27\n"
     ]
    }
   ],
   "source": [
    "show_total_lines_add = repo.git.show(\"-U0\",\"--pretty=\"\"\",fixing_commit).splitlines()\n",
    "temp_line_add = []\n",
    "t_l_add = 0\n",
    "for line in show_total_lines_add:\n",
    "    if re.search(\"^\\+\",line):\n",
    "        l = line.split(\" \")\n",
    "        if(len(l) > 1):\n",
    "            if(len(l[0])==1):\n",
    "                if(l[1][:1] != '*' or l[1][:1] !='/'):\n",
    "                    print(line)\n",
    "                    t_l_add += 1\n",
    "print(\"Total lines of code added excluding comments and blank lines = \"+ str(t_l_add))\n",
    "            "
   ]
  },
  {
   "cell_type": "markdown",
   "metadata": {},
   "source": [
    "# H) Days between current fixing commit and previous commit of each affected file"
   ]
  },
  {
   "cell_type": "code",
   "execution_count": 294,
   "metadata": {
    "scrolled": false
   },
   "outputs": [
    {
     "name": "stdout",
     "output_type": "stream",
     "text": [
      "Days between current fixing commit and previous commit of each affected file:60\n"
     ]
    }
   ],
   "source": [
    "date_diff = repo.git.log (\"--format=%cd\",fixing_commit,\"--\",affected_file,\"-2\").splitlines()\n",
    "currentdate = datetime.strptime(date_diff[0],\"%a %b %d %X %Y %z\")\n",
    "previousdate= datetime.strptime(date_diff[1],\"%a %b %d %X %Y %z\")\n",
    "datediff = (abs(currentdate-previousdate).days)\n",
    "print(\"Days between current fixing commit and previous commit of each affected file:\"+str(datediff))"
   ]
  },
  {
   "cell_type": "markdown",
   "metadata": {},
   "source": [
    "# I)  no.of.times each affected file of the current fixing commit been modified in the past time since their creation"
   ]
  },
  {
   "cell_type": "code",
   "execution_count": 295,
   "metadata": {},
   "outputs": [
    {
     "name": "stdout",
     "output_type": "stream",
     "text": [
      "3\n"
     ]
    }
   ],
   "source": [
    "no_of_times = repo.git.log (\"--format=%cd\", fixing_commit,\"--\",affected_file,\"--follow\").splitlines()\n",
    "print(len(no_of_times))"
   ]
  },
  {
   "cell_type": "markdown",
   "metadata": {},
   "source": [
    "# J) Developers have modified each affected file since its creation"
   ]
  },
  {
   "cell_type": "code",
   "execution_count": 296,
   "metadata": {},
   "outputs": [
    {
     "name": "stdout",
     "output_type": "stream",
     "text": [
      "1 Daniel DeGroff\n"
     ]
    }
   ],
   "source": [
    "no_of_developers = repo.git.log (\"--follow\",\"--format=%an\",fixing_commit,\"--\",affected_file).splitlines()\n",
    "developers= set(no_of_developers)\n",
    "num=1\n",
    "for line in developers:\n",
    "        print(num,line)\n",
    "        num=num+1\n",
    "        "
   ]
  },
  {
   "cell_type": "markdown",
   "metadata": {},
   "source": [
    "# K) For each developer identified, no.of.commits have each of them submitted"
   ]
  },
  {
   "cell_type": "code",
   "execution_count": 297,
   "metadata": {},
   "outputs": [],
   "source": [
    "commit_developers = repo.git.shortlog(\"-s\",\"-n\",\"--no-merges\",fixing_commit,\"--\",affected_file).splitlines()\n",
    "developer_commits = []\n",
    "for line in commit_developers:\n",
    "    commit, developer = line.split(\"\\t\")\n",
    "    developer_commits.append([int(commit),developer])"
   ]
  },
  {
   "cell_type": "code",
   "execution_count": 298,
   "metadata": {},
   "outputs": [],
   "source": [
    "df = pd.DataFrame(developer_commits, columns=['commit','Developer'])"
   ]
  },
  {
   "cell_type": "code",
   "execution_count": 299,
   "metadata": {},
   "outputs": [
    {
     "data": {
      "text/html": [
       "<div>\n",
       "<style scoped>\n",
       "    .dataframe tbody tr th:only-of-type {\n",
       "        vertical-align: middle;\n",
       "    }\n",
       "\n",
       "    .dataframe tbody tr th {\n",
       "        vertical-align: top;\n",
       "    }\n",
       "\n",
       "    .dataframe thead th {\n",
       "        text-align: right;\n",
       "    }\n",
       "</style>\n",
       "<table border=\"1\" class=\"dataframe\">\n",
       "  <thead>\n",
       "    <tr style=\"text-align: right;\">\n",
       "      <th></th>\n",
       "      <th>commit</th>\n",
       "      <th>Developer</th>\n",
       "    </tr>\n",
       "  </thead>\n",
       "  <tbody>\n",
       "    <tr>\n",
       "      <td>0</td>\n",
       "      <td>3</td>\n",
       "      <td>Daniel DeGroff</td>\n",
       "    </tr>\n",
       "  </tbody>\n",
       "</table>\n",
       "</div>"
      ],
      "text/plain": [
       "   commit       Developer\n",
       "0       3  Daniel DeGroff"
      ]
     },
     "execution_count": 299,
     "metadata": {},
     "output_type": "execute_result"
    }
   ],
   "source": [
    "df.head()"
   ]
  },
  {
   "cell_type": "markdown",
   "metadata": {},
   "source": [
    "# Show all developers across all branches\n",
    "Link: https://git-scm.com/docs/git-shortlog"
   ]
  },
  {
   "cell_type": "code",
   "execution_count": 300,
   "metadata": {},
   "outputs": [],
   "source": [
    "commit_authors = repo.git.shortlog(\"-sne\", \"--all\").splitlines()\n",
    "\n",
    "author_commits = []\n",
    "\n",
    "for commit_author in commit_authors:\n",
    "    commit, author = commit_author.split(\"\\t\")\n",
    "    author_commits.append([int(commit), author])"
   ]
  },
  {
   "cell_type": "code",
   "execution_count": 301,
   "metadata": {},
   "outputs": [],
   "source": [
    "df = pd.DataFrame(author_commits, columns=['Commit', 'Author'])"
   ]
  },
  {
   "cell_type": "code",
   "execution_count": 302,
   "metadata": {},
   "outputs": [
    {
     "data": {
      "text/html": [
       "<div>\n",
       "<style scoped>\n",
       "    .dataframe tbody tr th:only-of-type {\n",
       "        vertical-align: middle;\n",
       "    }\n",
       "\n",
       "    .dataframe tbody tr th {\n",
       "        vertical-align: top;\n",
       "    }\n",
       "\n",
       "    .dataframe thead th {\n",
       "        text-align: right;\n",
       "    }\n",
       "</style>\n",
       "<table border=\"1\" class=\"dataframe\">\n",
       "  <thead>\n",
       "    <tr style=\"text-align: right;\">\n",
       "      <th></th>\n",
       "      <th>Commit</th>\n",
       "      <th>Author</th>\n",
       "    </tr>\n",
       "  </thead>\n",
       "  <tbody>\n",
       "    <tr>\n",
       "      <td>0</td>\n",
       "      <td>138</td>\n",
       "      <td>Daniel DeGroff &lt;daniel@inversoft.com&gt;</td>\n",
       "    </tr>\n",
       "    <tr>\n",
       "      <td>1</td>\n",
       "      <td>7</td>\n",
       "      <td>Daniel DeGroff &lt;robotdan@users.noreply.github....</td>\n",
       "    </tr>\n",
       "    <tr>\n",
       "      <td>2</td>\n",
       "      <td>6</td>\n",
       "      <td>Daniel DeGroff &lt;daniel@fusionauth.io&gt;</td>\n",
       "    </tr>\n",
       "    <tr>\n",
       "      <td>3</td>\n",
       "      <td>3</td>\n",
       "      <td>Brian Pontarelli &lt;brian@inversoft.com&gt;</td>\n",
       "    </tr>\n",
       "    <tr>\n",
       "      <td>4</td>\n",
       "      <td>1</td>\n",
       "      <td>Luan Kevin Ferreira &lt;luankevinferreira@gmail.com&gt;</td>\n",
       "    </tr>\n",
       "  </tbody>\n",
       "</table>\n",
       "</div>"
      ],
      "text/plain": [
       "   Commit                                             Author\n",
       "0     138              Daniel DeGroff <daniel@inversoft.com>\n",
       "1       7  Daniel DeGroff <robotdan@users.noreply.github....\n",
       "2       6              Daniel DeGroff <daniel@fusionauth.io>\n",
       "3       3             Brian Pontarelli <brian@inversoft.com>\n",
       "4       1  Luan Kevin Ferreira <luankevinferreira@gmail.com>"
      ]
     },
     "execution_count": 302,
     "metadata": {},
     "output_type": "execute_result"
    }
   ],
   "source": [
    "df.head()"
   ]
  },
  {
   "cell_type": "markdown",
   "metadata": {},
   "source": [
    "## Top 10 most active developers in the project"
   ]
  },
  {
   "cell_type": "code",
   "execution_count": 303,
   "metadata": {},
   "outputs": [
    {
     "data": {
      "text/plain": [
       "<matplotlib.axes._subplots.AxesSubplot at 0x12f1a6b1da0>"
      ]
     },
     "execution_count": 303,
     "metadata": {},
     "output_type": "execute_result"
    },
    {
     "data": {
      "image/png": "[encoded data removed]",
      "text/plain": [
       "<Figure size 432x288 with 1 Axes>"
      ]
     },
     "metadata": {
      "needs_background": "light"
     },
     "output_type": "display_data"
    }
   ],
   "source": [
    "sns.barplot(y='Author', x=\"Commit\", data=df[:10])"
   ]
  },
  {
   "cell_type": "markdown",
   "metadata": {},
   "source": [
    "# Code changes between 2 commits\n",
    "<b>Note:</b> Watch out for the initial commit (no parent commit)"
   ]
  },
  {
   "cell_type": "code",
   "execution_count": 304,
   "metadata": {
    "scrolled": true
   },
   "outputs": [
    {
     "name": "stdout",
     "output_type": "stream",
     "text": [
      "diff --git a/src/main/java/org/primeframework/jwt/JWTDecoder.java b/src/main/java/org/primeframework/jwt/JWTDecoder.java\n",
      "index 6736d6b..38214b5 100644\n",
      "--- a/src/main/java/org/primeframework/jwt/JWTDecoder.java\n",
      "+++ b/src/main/java/org/primeframework/jwt/JWTDecoder.java\n",
      "@@ -151,9 +151,11 @@ public class JWTDecoder {\n",
      "   }\n",
      " \n",
      "   private JWT decode(String encodedJWT, Header header, String[] parts, Verifier verifier) {\n",
      "-    int index = encodedJWT.lastIndexOf(\".\");\n",
      "-    // The message comprises the first two segments of the entire JWT, the signature is the last segment.\n",
      "-    byte[] message = encodedJWT.substring(0, index).getBytes(StandardCharsets.UTF_8);\n",
      "+    // The callers of this decode will have already handled 'none' if it was deemed to be valid based upon\n",
      "+    // the provided verifiers. At this point, if we have a 'none' algorithm specified in the header, it is invalid.\n",
      "+    if (header.algorithm == Algorithm.none) {\n",
      "+      throw new MissingVerifierException(\"No Verifier has been provided for verify a signature signed using [\" + header.algorithm.getName() + \"]\");\n",
      "+    }\n",
      " \n",
      "     // If a signature is provided and verifier must be provided.\n",
      "     if (parts.length == 3 && verifier == null) {\n",
      "@@ -165,6 +167,10 @@ public class JWTDecoder {\n",
      "       throw new InvalidJWTSignatureException();\n",
      "     }\n",
      " \n",
      "+    int index = encodedJWT.lastIndexOf(\".\");\n",
      "+    // The message comprises the first two segments of the entire JWT, the signature is the last segment.\n",
      "+    byte[] message = encodedJWT.substring(0, index).getBytes(StandardCharsets.UTF_8);\n",
      "+\n",
      "     if (parts.length == 3) {\n",
      "       // Verify the signature before de-serializing the payload.\n",
      "       byte[] signature = base64Decode(parts[2].getBytes(StandardCharsets.UTF_8));\n",
      "diff --git a/src/test/java/org/primeframework/jwt/VulnerabilityTest.java b/src/test/java/org/primeframework/jwt/VulnerabilityTest.java\n",
      "index 8dd92e4..7094e9a 100644\n",
      "--- a/src/test/java/org/primeframework/jwt/VulnerabilityTest.java\n",
      "+++ b/src/test/java/org/primeframework/jwt/VulnerabilityTest.java\n",
      "@@ -61,8 +61,7 @@ public class VulnerabilityTest extends BaseTest {\n",
      " \n",
      "     String hackedJWT = encodedJWT.substring(0, encodedJWT.lastIndexOf(\".\"));\n",
      " \n",
      "-    expectException(InvalidJWTException.class, ()\n",
      "-        -> JWT.getDecoder().decode(hackedJWT, HMACVerifier.newVerifier(\"secret\")));\n",
      "+    expectException(InvalidJWTException.class, () -> JWT.getDecoder().decode(hackedJWT, HMACVerifier.newVerifier(\"secret\")));\n",
      "   }\n",
      " \n",
      "   @Test\n",
      "@@ -71,8 +70,30 @@ public class VulnerabilityTest extends BaseTest {\n",
      "     JWT jwt = new JWT().setSubject(\"art\");\n",
      "     String encodedJWT = JWT.getEncoder().encode(jwt, HMACSigner.newSHA256Signer(\"secret\"));\n",
      " \n",
      "-    expectException(MissingVerifierException.class, ()\n",
      "-        -> JWT.getDecoder().decode(encodedJWT));\n",
      "+    expectException(MissingVerifierException.class, () -> JWT.getDecoder().decode(encodedJWT));\n",
      "+  }\n",
      "+\n",
      "+  @Test\n",
      "+  public void test_unsecuredJWT_validation() throws Exception {\n",
      "+    JWT jwt = new JWT().setSubject(\"123456789\");\n",
      "+    Signer signer = new UnsecuredSigner();\n",
      "+    Verifier hmacVerifier = HMACVerifier.newVerifier(\"too many secrets\");\n",
      "+\n",
      "+    String encodedUnsecuredJWT = JWTEncoder.getInstance().encode(jwt, signer);\n",
      "+\n",
      "+    // Ensure that attempting to decode an un-secured JWT fails when we provide a verifier\n",
      "+    expectException(MissingVerifierException.class, () -> JWT.getDecoder().decode(encodedUnsecuredJWT, hmacVerifier));\n",
      "+\n",
      "+    String encodedUnsecuredJWT_withKid = JWTEncoder.getInstance().encode(jwt, signer, (header) -> header.set(\"kid\", \"abc\"));\n",
      "+    String encodedUnsecuredJWT_withoutKid = JWTEncoder.getInstance().encode(jwt, signer);\n",
      "+\n",
      "+    Map<String, Verifier> verifierMap = new HashMap<>();\n",
      "+    verifierMap.put(null, hmacVerifier);\n",
      "+    verifierMap.put(\"abc\", hmacVerifier);\n",
      "+\n",
      "+    // Ensure that attempting to decode an un-secured JWT fails when we provide a verifier with or without using a kid\n",
      "+    expectException(MissingVerifierException.class, () -> JWT.getDecoder().decode(encodedUnsecuredJWT_withKid, verifierMap));\n",
      "+    expectException(MissingVerifierException.class, () -> JWT.getDecoder().decode(encodedUnsecuredJWT_withoutKid, verifierMap));\n",
      "   }\n",
      " \n",
      "   @Test\n"
     ]
    }
   ],
   "source": [
    "diff_data = repo.git.diff(fixing_commit + \"^\", fixing_commit).splitlines()\n",
    "for line in diff_data:\n",
    "    print(line)"
   ]
  },
  {
   "cell_type": "markdown",
   "metadata": {},
   "source": [
    "# Identify the last commit that changes a line modified in the current commit"
   ]
  },
  {
   "cell_type": "markdown",
   "metadata": {},
   "source": [
    "Link: https://git-scm.com/docs/git-blame"
   ]
  },
  {
   "cell_type": "code",
   "execution_count": 305,
   "metadata": {},
   "outputs": [
    {
     "name": "stdout",
     "output_type": "stream",
     "text": [
      "4fb9484a (Daniel DeGroff 2018-03-01 11:29:03 -0700 113)     expectException(InvalidJWTSignatureException.class, () -> JWTDecoder.getInstance().decode(hmacSignedJWTTakeTwo, rsaVerifier, hmacVerifier));\n"
     ]
    }
   ],
   "source": [
    "blame_data = repo.git.blame(\"-L113,+1\", fixing_commit + \"^\", \"--\", affected_file).splitlines()\n",
    "for line in blame_data:\n",
    "    print(line)"
   ]
  },
  {
   "cell_type": "markdown",
   "metadata": {},
   "source": [
    "# Show all the commit history between two commits"
   ]
  },
  {
   "cell_type": "markdown",
   "metadata": {},
   "source": [
    "Link: https://git-scm.com/docs/git-log <br> Watch out for initial commit (no parent commit)"
   ]
  },
  {
   "cell_type": "code",
   "execution_count": 306,
   "metadata": {
    "scrolled": true
   },
   "outputs": [
    {
     "name": "stdout",
     "output_type": "stream",
     "text": [
      "Number of commits in between: 5\n"
     ]
    }
   ],
   "source": [
    "last_commit = blame_data[0].strip().split()[0]\n",
    "log_data = repo.git.log(\"--oneline\", last_commit + \"..\" + fixing_commit + \"^\").splitlines()\n",
    "print(\"Number of commits in between:\", len(log_data))"
   ]
  },
  {
   "cell_type": "code",
   "execution_count": 307,
   "metadata": {},
   "outputs": [
    {
     "data": {
      "text/plain": [
       "['8d73248 README add link to CVE-2018-1000125',\n",
       " '8beab4f README',\n",
       " '4e96a3b README',\n",
       " '66b1194 README',\n",
       " '6061417 Test cleanup']"
      ]
     },
     "execution_count": 307,
     "metadata": {},
     "output_type": "execute_result"
    }
   ],
   "source": [
    "log_data"
   ]
  },
  {
   "cell_type": "code",
   "execution_count": null,
   "metadata": {},
   "outputs": [],
   "source": []
  },
  {
   "cell_type": "code",
   "execution_count": null,
   "metadata": {},
   "outputs": [],
   "source": []
  }
 ],
 "metadata": {
  "kernelspec": {
   "display_name": "Python 3",
   "language": "python",
   "name": "python3"
  },
  "language_info": {
   "codemirror_mode": {
    "name": "ipython",
    "version": 3
   },
   "file_extension": ".py",
   "mimetype": "text/x-python",
   "name": "python",
   "nbconvert_exporter": "python",
   "pygments_lexer": "ipython3",
   "version": "3.7.0"
  }
 },
 "nbformat": 4,
 "nbformat_minor": 2
}
