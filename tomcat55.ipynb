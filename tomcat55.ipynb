{
 "cells": [
  {
   "cell_type": "markdown",
   "metadata": {},
   "source": [
    "\n"
   ]
  },
  {
   "cell_type": "markdown",
   "metadata": {},
   "source": [
    "# Load libraries"
   ]
  },
  {
   "cell_type": "code",
   "execution_count": 198,
   "metadata": {},
   "outputs": [],
   "source": [
    "import numpy as np\n",
    "import pandas as pd\n",
    "import os\n",
    "from datetime import datetime\n",
    "import re\n",
    "\n",
    "\n",
    "# Specify git executable file for GitPython in Jupyter Notebook (In IDE, it can still work without this line.)\n",
    "os.environ[\"GIT_PYTHON_GIT_EXECUTABLE\"] = \"C:\\Program Files\\Git\\cmd\\git.exe\"\n",
    "\n",
    "import git\n",
    "from git import RemoteProgress\n",
    "\n",
    "from git import Repo\n",
    "import matplotlib.pyplot as plt\n",
    "import seaborn as sns\n",
    "%matplotlib inline"
   ]
  },
  {
   "cell_type": "markdown",
   "metadata": {},
   "source": [
    "# Clone repo from GitHub"
   ]
  },
  {
   "cell_type": "markdown",
   "metadata": {},
   "source": [
    "Link: https://git-scm.com/docs/git-clone <br>\n",
    "<b>Note:</b> In case too-long file path issue occurs in Windows, set <code>git config --system core.longpaths true</code>"
   ]
  },
  {
   "cell_type": "code",
   "execution_count": 199,
   "metadata": {},
   "outputs": [],
   "source": [
    "class Progress(RemoteProgress):\n",
    "    def update(self, op_code, cur_count, max_count=None, message=''):\n",
    "        print(self._cur_line)"
   ]
  },
  {
   "cell_type": "code",
   "execution_count": 254,
   "metadata": {},
   "outputs": [],
   "source": [
    "#remote_link = \"https://github.com/phpmyadmin/phpmyadmin\"\n",
    "local_link = \"tomcat55\"\n",
    "# Uncomment to clone\n",
    "# Repo.clone_from(remote_link, local_link, progress=Progress())"
   ]
  },
  {
   "cell_type": "code",
   "execution_count": 255,
   "metadata": {},
   "outputs": [],
   "source": [
    "repo = Repo(local_link)\n",
    "fixing_commit = \"863d77c7d321245de019ac32252828e0a025c5b4\"\n",
    "affected_file = \"container/webapps/manager/WEB-INF/classes/org/apache/catalina/manager/HTMLManagerServlet.java\""
   ]
  },
  {
   "cell_type": "markdown",
   "metadata": {},
   "source": [
    "# A) Show info of a commit\n",
    "Link: https://git-scm.com/docs/git-show\n",
    "You can explore different parameters."
   ]
  },
  {
   "cell_type": "code",
   "execution_count": 256,
   "metadata": {
    "scrolled": true
   },
   "outputs": [
    {
     "name": "stdout",
     "output_type": "stream",
     "text": [
      "commit 863d77c7d321245de019ac32252828e0a025c5b4\n",
      "Author: Konstantin Kolinko <kkolinko@apache.org>\n",
      "Date:   Tue Jan 11 08:13:05 2011 +0000\n",
      "\n",
      "    Improve filtering\n",
      "    \n",
      "    git-svn-id: https://svn.apache.org/repos/asf/tomcat/tc5.5.x/trunk@1057518 13f79535-47bb-0310-9956-ffa450edef68\n"
     ]
    }
   ],
   "source": [
    "show_data = repo.git.show(\"-s\", fixing_commit).splitlines()\n",
    "for line in show_data:\n",
    "    print(line)"
   ]
  },
  {
   "cell_type": "markdown",
   "metadata": {},
   "source": [
    "# B) Show total files affected in the fixing commit"
   ]
  },
  {
   "cell_type": "code",
   "execution_count": 257,
   "metadata": {},
   "outputs": [
    {
     "name": "stdout",
     "output_type": "stream",
     "text": [
      "commit 863d77c7d321245de019ac32252828e0a025c5b4\n",
      "Author: Konstantin Kolinko <kkolinko@apache.org>\n",
      "Date:   Tue Jan 11 08:13:05 2011 +0000\n",
      "\n",
      "    Improve filtering\n",
      "    \n",
      "    git-svn-id: https://svn.apache.org/repos/asf/tomcat/tc5.5.x/trunk@1057518 13f79535-47bb-0310-9956-ffa450edef68\n",
      "\n",
      " container/webapps/docs/changelog.xml               |  3 +++\n",
      " .../catalina/manager/HTMLManagerServlet.java       | 27 +++++++++++-----------\n",
      " .../apache/catalina/manager/StatusTransformer.java |  8 +++----\n",
      " 3 files changed, 21 insertions(+), 17 deletions(-)\n"
     ]
    }
   ],
   "source": [
    "show_total_files_affected = repo.git.show (\"--stat\", fixing_commit).splitlines()\n",
    "for line in show_total_files_affected:\n",
    "    print(line)"
   ]
  },
  {
   "cell_type": "markdown",
   "metadata": {},
   "source": [
    "## C) Show total directories affected in the fixing commit"
   ]
  },
  {
   "cell_type": "code",
   "execution_count": 258,
   "metadata": {
    "scrolled": true
   },
   "outputs": [
    {
     "name": "stdout",
     "output_type": "stream",
     "text": [
      "commit 863d77c7d321245de019ac32252828e0a025c5b4\n",
      "Author: Konstantin Kolinko <kkolinko@apache.org>\n",
      "Date:   Tue Jan 11 08:13:05 2011 +0000\n",
      "\n",
      "    Improve filtering\n",
      "    \n",
      "    git-svn-id: https://svn.apache.org/repos/asf/tomcat/tc5.5.x/trunk@1057518 13f79535-47bb-0310-9956-ffa450edef68\n",
      "\n",
      "   4.6% container/webapps/docs/\n",
      "  95.3% container/webapps/manager/WEB-INF/classes/org/apache/catalina/manager/\n"
     ]
    }
   ],
   "source": [
    "show_total_directories_affected = repo.git.show (\"--dirstat\", fixing_commit).splitlines()\n",
    "for line in show_total_directories_affected:\n",
    "    print(line)"
   ]
  },
  {
   "cell_type": "markdown",
   "metadata": {},
   "source": [
    "# D) Show total lines of code deleted including comments and blank lines"
   ]
  },
  {
   "cell_type": "code",
   "execution_count": 260,
   "metadata": {},
   "outputs": [
    {
     "name": "stdout",
     "output_type": "stream",
     "text": [
      " 17 deletions(-)\n"
     ]
    }
   ],
   "source": [
    "show_total_lines_deleted = repo.git.show (\"--shortstat\", fixing_commit).splitlines()\n",
    "show_total_lines_deleted.reverse()\n",
    "show_total_lines_deleted = show_total_lines_deleted[0].split(',') \n",
    "print(show_total_lines_deleted[2])"
   ]
  },
  {
   "cell_type": "markdown",
   "metadata": {},
   "source": [
    "# E) Show total lines of code added including comments and blank lines"
   ]
  },
  {
   "cell_type": "code",
   "execution_count": 261,
   "metadata": {
    "scrolled": true
   },
   "outputs": [
    {
     "name": "stdout",
     "output_type": "stream",
     "text": [
      " 21 insertions(+)\n"
     ]
    }
   ],
   "source": [
    "show_total_lines_added = repo.git.show (\"--shortstat\", fixing_commit).splitlines()\n",
    "show_total_lines_added.reverse()\n",
    "show_total_lines_added = show_total_lines_added[0].split(',') \n",
    "print(show_total_lines_added[1])"
   ]
  },
  {
   "cell_type": "markdown",
   "metadata": {},
   "source": [
    "# F) Show total lines of code deleted excluding comments and blank lines"
   ]
  },
  {
   "cell_type": "code",
   "execution_count": 262,
   "metadata": {},
   "outputs": [
    {
     "name": "stdout",
     "output_type": "stream",
     "text": [
      "-                args[0] = displayPath;\n",
      "-                args[1] = context.getDisplayName();\n",
      "-                if (args[1] == null) {\n",
      "-                args[3] = response.encodeURL\n",
      "-                     \"/html/sessions?path=\" + displayPath);\n",
      "-                args[0] = response.encodeURL\n",
      "-                     \"/html/start?path=\" + displayPath);\n",
      "-                args[2] = response.encodeURL\n",
      "-                     \"/html/stop?path=\" + displayPath);\n",
      "-                args[4] = response.encodeURL\n",
      "-                     \"/html/reload?path=\" + displayPath);\n",
      "-                args[6] = response.encodeURL\n",
      "-                     \"/html/undeploy?path=\" + displayPath);\n",
      "-                writer.print(webModuleName);\n",
      "-            writer.print(name);\n",
      "-            writer.print(servletName);\n",
      "-                    writer.print(mappings[i]);\n",
      "Total lines of code deleted excluding comments and blank lines = 0\n"
     ]
    }
   ],
   "source": [
    "show_total_lines_deleted = repo.git.show(\"-U0\",\"--pretty=\"\"\",fixing_commit).splitlines()\n",
    "temp_line_deleted = []\n",
    "t_l_deleted = 0\n",
    "for line in show_total_lines_deleted:\n",
    "    if re.search(\"^\\-\",line):\n",
    "        l = line.split(\" \")\n",
    "        if(len(l) > 1):\n",
    "            if(len(l[0])==1):\n",
    "                if(l[1][:1] != '*' or l[1][:1] !='/'):\n",
    "                    print(line)\n",
    "                    t_l_add += 1\n",
    "print(\"Total lines of code deleted excluding comments and blank lines = \"+ str(t_l_deleted))\n",
    "            "
   ]
  },
  {
   "cell_type": "markdown",
   "metadata": {},
   "source": [
    "# G) Show total lines of code added excluding comments and blank lines"
   ]
  },
  {
   "cell_type": "code",
   "execution_count": 263,
   "metadata": {
    "scrolled": true
   },
   "outputs": [
    {
     "name": "stdout",
     "output_type": "stream",
     "text": [
      "+      <fix>\n",
      "+        Improve filtering of Manager display output. (kkolinko) \n",
      "+      </fix>\n",
      "+                args[0] = RequestUtil.filter(displayPath);\n",
      "+                if (context.getDisplayName() == null) {\n",
      "+                } else {\n",
      "+                    args[1] = RequestUtil.filter(context.getDisplayName());\n",
      "+                args[3] = RequestUtil.filter(response.encodeURL\n",
      "+                     \"/html/sessions?path=\" + displayPath));\n",
      "+                args[0] = RequestUtil.filter(response.encodeURL\n",
      "+                     \"/html/start?path=\" + displayPath));\n",
      "+                args[2] = RequestUtil.filter(response.encodeURL\n",
      "+                     \"/html/stop?path=\" + displayPath));\n",
      "+                args[4] = RequestUtil.filter(response.encodeURL\n",
      "+                     \"/html/reload?path=\" + displayPath));\n",
      "+                args[6] = RequestUtil.filter(response.encodeURL\n",
      "+                     \"/html/undeploy?path=\" + displayPath));\n",
      "+                writer.print(filter(webModuleName));\n",
      "+            writer.print(filter(name));\n",
      "+            writer.print(filter(servletName));\n",
      "+                    writer.print(filter(mappings[i]));\n",
      "Total lines of code added excluding comments and blank lines = 21\n"
     ]
    }
   ],
   "source": [
    "show_total_lines_add = repo.git.show(\"-U0\",\"--pretty=\"\"\",fixing_commit).splitlines()\n",
    "temp_line_add = []\n",
    "t_l_add = 0\n",
    "for line in show_total_lines_add:\n",
    "    if re.search(\"^\\+\",line):\n",
    "        l = line.split(\" \")\n",
    "        if(len(l) > 1):\n",
    "            if(len(l[0])==1):\n",
    "                if(l[1][:1] != '*' or l[1][:1] !='/'):\n",
    "                    print(line)\n",
    "                    t_l_add += 1\n",
    "print(\"Total lines of code added excluding comments and blank lines = \"+ str(t_l_add))\n",
    "            "
   ]
  },
  {
   "cell_type": "markdown",
   "metadata": {},
   "source": [
    "# H) Days between current fixing commit and previous commit of each affected file"
   ]
  },
  {
   "cell_type": "code",
   "execution_count": 264,
   "metadata": {
    "scrolled": false
   },
   "outputs": [
    {
     "name": "stdout",
     "output_type": "stream",
     "text": [
      "Days between current fixing commit and previous commit of each affected file:229\n"
     ]
    }
   ],
   "source": [
    "date_diff = repo.git.log (\"--format=%cd\",fixing_commit,\"--\",affected_file,\"-2\").splitlines()\n",
    "currentdate = datetime.strptime(date_diff[0],\"%a %b %d %X %Y %z\")\n",
    "previousdate= datetime.strptime(date_diff[1],\"%a %b %d %X %Y %z\")\n",
    "datediff = (abs(currentdate-previousdate).days)\n",
    "print(\"Days between current fixing commit and previous commit of each affected file:\"+str(datediff))"
   ]
  },
  {
   "cell_type": "markdown",
   "metadata": {},
   "source": [
    "# I)  no.of.times each affected file of the current fixing commit been modified in the past time since their creation"
   ]
  },
  {
   "cell_type": "code",
   "execution_count": 265,
   "metadata": {},
   "outputs": [
    {
     "name": "stdout",
     "output_type": "stream",
     "text": [
      "4\n"
     ]
    }
   ],
   "source": [
    "no_of_times = repo.git.log (\"--format=%cd\", fixing_commit,\"--\",affected_file,\"--follow\").splitlines()\n",
    "print(len(no_of_times))"
   ]
  },
  {
   "cell_type": "markdown",
   "metadata": {},
   "source": [
    "# J) Developers have modified each affected file since its creation"
   ]
  },
  {
   "cell_type": "code",
   "execution_count": 266,
   "metadata": {},
   "outputs": [
    {
     "name": "stdout",
     "output_type": "stream",
     "text": [
      "1 Mark Emlyn David Thomas\n",
      "2 Rainer Jung\n",
      "3 Konstantin Kolinko\n"
     ]
    }
   ],
   "source": [
    "no_of_developers = repo.git.log (\"--follow\",\"--format=%an\",fixing_commit,\"--\",affected_file).splitlines()\n",
    "developers= set(no_of_developers)\n",
    "num=1\n",
    "for line in developers:\n",
    "        print(num,line)\n",
    "        num=num+1\n",
    "        "
   ]
  },
  {
   "cell_type": "markdown",
   "metadata": {},
   "source": [
    "# K) For each developer identified, no.of.commits have each of them submitted"
   ]
  },
  {
   "cell_type": "code",
   "execution_count": 267,
   "metadata": {},
   "outputs": [],
   "source": [
    "commit_developers = repo.git.shortlog(\"-s\",\"-n\",\"--no-merges\",fixing_commit,\"--\",affected_file).splitlines()\n",
    "developer_commits = []\n",
    "for line in commit_developers:\n",
    "    commit, developer = line.split(\"\\t\")\n",
    "    developer_commits.append([int(commit),developer])"
   ]
  },
  {
   "cell_type": "code",
   "execution_count": 269,
   "metadata": {},
   "outputs": [],
   "source": [
    "df = pd.DataFrame(developer_commits, columns=['commit','Developer'])"
   ]
  },
  {
   "cell_type": "code",
   "execution_count": 270,
   "metadata": {},
   "outputs": [
    {
     "data": {
      "text/html": [
       "<div>\n",
       "<style scoped>\n",
       "    .dataframe tbody tr th:only-of-type {\n",
       "        vertical-align: middle;\n",
       "    }\n",
       "\n",
       "    .dataframe tbody tr th {\n",
       "        vertical-align: top;\n",
       "    }\n",
       "\n",
       "    .dataframe thead th {\n",
       "        text-align: right;\n",
       "    }\n",
       "</style>\n",
       "<table border=\"1\" class=\"dataframe\">\n",
       "  <thead>\n",
       "    <tr style=\"text-align: right;\">\n",
       "      <th></th>\n",
       "      <th>commit</th>\n",
       "      <th>Developer</th>\n",
       "    </tr>\n",
       "  </thead>\n",
       "  <tbody>\n",
       "    <tr>\n",
       "      <td>0</td>\n",
       "      <td>2</td>\n",
       "      <td>Konstantin Kolinko</td>\n",
       "    </tr>\n",
       "    <tr>\n",
       "      <td>1</td>\n",
       "      <td>1</td>\n",
       "      <td>Mark Emlyn David Thomas</td>\n",
       "    </tr>\n",
       "    <tr>\n",
       "      <td>2</td>\n",
       "      <td>1</td>\n",
       "      <td>Rainer Jung</td>\n",
       "    </tr>\n",
       "  </tbody>\n",
       "</table>\n",
       "</div>"
      ],
      "text/plain": [
       "   commit                Developer\n",
       "0       2       Konstantin Kolinko\n",
       "1       1  Mark Emlyn David Thomas\n",
       "2       1              Rainer Jung"
      ]
     },
     "execution_count": 270,
     "metadata": {},
     "output_type": "execute_result"
    }
   ],
   "source": [
    "df.head()"
   ]
  },
  {
   "cell_type": "markdown",
   "metadata": {},
   "source": [
    "# Show all developers across all branches\n",
    "Link: https://git-scm.com/docs/git-shortlog"
   ]
  },
  {
   "cell_type": "code",
   "execution_count": 271,
   "metadata": {},
   "outputs": [],
   "source": [
    "commit_authors = repo.git.shortlog(\"-sne\", \"--all\").splitlines()\n",
    "\n",
    "author_commits = []\n",
    "\n",
    "for commit_author in commit_authors:\n",
    "    commit, author = commit_author.split(\"\\t\")\n",
    "    author_commits.append([int(commit), author])"
   ]
  },
  {
   "cell_type": "code",
   "execution_count": 272,
   "metadata": {},
   "outputs": [],
   "source": [
    "df = pd.DataFrame(author_commits, columns=['Commit', 'Author'])"
   ]
  },
  {
   "cell_type": "code",
   "execution_count": 273,
   "metadata": {},
   "outputs": [
    {
     "data": {
      "text/html": [
       "<div>\n",
       "<style scoped>\n",
       "    .dataframe tbody tr th:only-of-type {\n",
       "        vertical-align: middle;\n",
       "    }\n",
       "\n",
       "    .dataframe tbody tr th {\n",
       "        vertical-align: top;\n",
       "    }\n",
       "\n",
       "    .dataframe thead th {\n",
       "        text-align: right;\n",
       "    }\n",
       "</style>\n",
       "<table border=\"1\" class=\"dataframe\">\n",
       "  <thead>\n",
       "    <tr style=\"text-align: right;\">\n",
       "      <th></th>\n",
       "      <th>Commit</th>\n",
       "      <th>Author</th>\n",
       "    </tr>\n",
       "  </thead>\n",
       "  <tbody>\n",
       "    <tr>\n",
       "      <td>0</td>\n",
       "      <td>414</td>\n",
       "      <td>Mark Emlyn David Thomas &lt;markt@apache.org&gt;</td>\n",
       "    </tr>\n",
       "    <tr>\n",
       "      <td>1</td>\n",
       "      <td>306</td>\n",
       "      <td>Konstantin Kolinko &lt;kkolinko@apache.org&gt;</td>\n",
       "    </tr>\n",
       "    <tr>\n",
       "      <td>2</td>\n",
       "      <td>85</td>\n",
       "      <td>Rainer Jung &lt;rjung@apache.org&gt;</td>\n",
       "    </tr>\n",
       "    <tr>\n",
       "      <td>3</td>\n",
       "      <td>68</td>\n",
       "      <td>Jim Jagielski &lt;jim@apache.org&gt;</td>\n",
       "    </tr>\n",
       "    <tr>\n",
       "      <td>4</td>\n",
       "      <td>25</td>\n",
       "      <td>Keiichi Fujino &lt;kfujino@apache.org&gt;</td>\n",
       "    </tr>\n",
       "  </tbody>\n",
       "</table>\n",
       "</div>"
      ],
      "text/plain": [
       "   Commit                                      Author\n",
       "0     414  Mark Emlyn David Thomas <markt@apache.org>\n",
       "1     306    Konstantin Kolinko <kkolinko@apache.org>\n",
       "2      85              Rainer Jung <rjung@apache.org>\n",
       "3      68              Jim Jagielski <jim@apache.org>\n",
       "4      25         Keiichi Fujino <kfujino@apache.org>"
      ]
     },
     "execution_count": 273,
     "metadata": {},
     "output_type": "execute_result"
    }
   ],
   "source": [
    "df.head()"
   ]
  },
  {
   "cell_type": "markdown",
   "metadata": {},
   "source": [
    "## Top 10 most active developers in the project"
   ]
  },
  {
   "cell_type": "code",
   "execution_count": 274,
   "metadata": {},
   "outputs": [
    {
     "data": {
      "text/plain": [
       "<matplotlib.axes._subplots.AxesSubplot at 0x12f1b3f62b0>"
      ]
     },
     "execution_count": 274,
     "metadata": {},
     "output_type": "execute_result"
    },
    {
     "data": {
      "image/png": "[encoded data removed]",
      "text/plain": [
       "<Figure size 432x288 with 1 Axes>"
      ]
     },
     "metadata": {
      "needs_background": "light"
     },
     "output_type": "display_data"
    }
   ],
   "source": [
    "sns.barplot(y='Author', x=\"Commit\", data=df[:10])"
   ]
  },
  {
   "cell_type": "markdown",
   "metadata": {},
   "source": [
    "# Code changes between 2 commits\n",
    "<b>Note:</b> Watch out for the initial commit (no parent commit)"
   ]
  },
  {
   "cell_type": "code",
   "execution_count": 275,
   "metadata": {
    "scrolled": true
   },
   "outputs": [
    {
     "name": "stdout",
     "output_type": "stream",
     "text": [
      "diff --git a/container/webapps/docs/changelog.xml b/container/webapps/docs/changelog.xml\n",
      "index 1568f757..bd4ee70c 100644\n",
      "--- a/container/webapps/docs/changelog.xml\n",
      "+++ b/container/webapps/docs/changelog.xml\n",
      "@@ -106,6 +106,9 @@\n",
      "       <update>\n",
      "         Improve documentation of database connection factory. (rjung)\n",
      "       </update>\n",
      "+      <fix>\n",
      "+        Improve filtering of Manager display output. (kkolinko) \n",
      "+      </fix>\n",
      "     </changelog>\n",
      "   </subsection>\n",
      " </section>\n",
      "diff --git a/container/webapps/manager/WEB-INF/classes/org/apache/catalina/manager/HTMLManagerServlet.java b/container/webapps/manager/WEB-INF/classes/org/apache/catalina/manager/HTMLManagerServlet.java\n",
      "index f7391ebe..31039b29 100644\n",
      "--- a/container/webapps/manager/WEB-INF/classes/org/apache/catalina/manager/HTMLManagerServlet.java\n",
      "+++ b/container/webapps/manager/WEB-INF/classes/org/apache/catalina/manager/HTMLManagerServlet.java\n",
      "@@ -370,15 +370,16 @@ public final class HTMLManagerServlet extends ManagerServlet {\n",
      "                 }\n",
      "                 \n",
      "                 args = new Object[6];\n",
      "-                args[0] = displayPath;\n",
      "-                args[1] = context.getDisplayName();\n",
      "-                if (args[1] == null) {\n",
      "+                args[0] = RequestUtil.filter(displayPath);\n",
      "+                if (context.getDisplayName() == null) {\n",
      "                     args[1] = \"&nbsp;\";\n",
      "+                } else {\n",
      "+                    args[1] = RequestUtil.filter(context.getDisplayName());\n",
      "                 }\n",
      "                 args[2] = new Boolean(context.getAvailable());\n",
      "-                args[3] = response.encodeURL\n",
      "+                args[3] = RequestUtil.filter(response.encodeURL\n",
      "                     (request.getContextPath() +\n",
      "-                     \"/html/sessions?path=\" + displayPath);\n",
      "+                     \"/html/sessions?path=\" + displayPath));\n",
      "                 if (context.getManager() != null) {\n",
      "                     args[4] = new Integer\n",
      "                         (context.getManager().getActiveSessions());\n",
      "@@ -392,21 +393,21 @@ public final class HTMLManagerServlet extends ManagerServlet {\n",
      "                     (MessageFormat.format(APPS_ROW_DETAILS_SECTION, args));\n",
      " \n",
      "                 args = new Object[9];\n",
      "-                args[0] = response.encodeURL\n",
      "+                args[0] = RequestUtil.filter(response.encodeURL\n",
      "                     (request.getContextPath() +\n",
      "-                     \"/html/start?path=\" + displayPath);\n",
      "+                     \"/html/start?path=\" + displayPath));\n",
      "                 args[1] = appsStart;\n",
      "-                args[2] = response.encodeURL\n",
      "+                args[2] = RequestUtil.filter(response.encodeURL\n",
      "                     (request.getContextPath() +\n",
      "-                     \"/html/stop?path=\" + displayPath);\n",
      "+                     \"/html/stop?path=\" + displayPath));\n",
      "                 args[3] = appsStop;\n",
      "-                args[4] = response.encodeURL\n",
      "+                args[4] = RequestUtil.filter(response.encodeURL\n",
      "                     (request.getContextPath() +\n",
      "-                     \"/html/reload?path=\" + displayPath);\n",
      "+                     \"/html/reload?path=\" + displayPath));\n",
      "                 args[5] = appsReload;\n",
      "-                args[6] = response.encodeURL\n",
      "+                args[6] = RequestUtil.filter(response.encodeURL\n",
      "                     (request.getContextPath() +\n",
      "-                     \"/html/undeploy?path=\" + displayPath);\n",
      "+                     \"/html/undeploy?path=\" + displayPath));\n",
      "                 args[7] = appsUndeploy;\n",
      "                 \n",
      "                 args[8] = highlightColor;\n",
      "diff --git a/container/webapps/manager/WEB-INF/classes/org/apache/catalina/manager/StatusTransformer.java b/container/webapps/manager/WEB-INF/classes/org/apache/catalina/manager/StatusTransformer.java\n",
      "index b75dd074..79e0e2a6 100644\n",
      "--- a/container/webapps/manager/WEB-INF/classes/org/apache/catalina/manager/StatusTransformer.java\n",
      "+++ b/container/webapps/manager/WEB-INF/classes/org/apache/catalina/manager/StatusTransformer.java\n",
      "@@ -581,7 +581,7 @@ public class StatusTransformer {\n",
      "                 }\n",
      " \n",
      "                 writer.print(\"<a href=\\\"#\" + (count++) + \".0\\\">\");\n",
      "-                writer.print(webModuleName);\n",
      "+                writer.print(filter(webModuleName));\n",
      "                 writer.print(\"</a>\");\n",
      "                 if (iterator.hasNext()) {\n",
      "                     writer.print(\"<br>\");\n",
      "@@ -656,7 +656,7 @@ public class StatusTransformer {\n",
      "             }\n",
      " \n",
      "             writer.print(\"<h1>\");\n",
      "-            writer.print(name);\n",
      "+            writer.print(filter(name));\n",
      "             writer.print(\"</h1>\");\n",
      "             writer.print(\"</a>\");\n",
      " \n",
      "@@ -784,11 +784,11 @@ public class StatusTransformer {\n",
      "                 mBeanServer.invoke(objectName, \"findMappings\", null, null);\n",
      "             \n",
      "             writer.print(\"<h2>\");\n",
      "-            writer.print(servletName);\n",
      "+            writer.print(filter(servletName));\n",
      "             if ((mappings != null) && (mappings.length > 0)) {\n",
      "                 writer.print(\" [ \");\n",
      "                 for (int i = 0; i < mappings.length; i++) {\n",
      "-                    writer.print(mappings[i]);\n",
      "+                    writer.print(filter(mappings[i]));\n",
      "                     if (i < mappings.length - 1) {\n",
      "                         writer.print(\" , \");\n",
      "                     }\n"
     ]
    }
   ],
   "source": [
    "diff_data = repo.git.diff(fixing_commit + \"^\", fixing_commit).splitlines()\n",
    "for line in diff_data:\n",
    "    print(line)"
   ]
  },
  {
   "cell_type": "markdown",
   "metadata": {},
   "source": [
    "# Identify the last commit that changes a line modified in the current commit"
   ]
  },
  {
   "cell_type": "markdown",
   "metadata": {},
   "source": [
    "Link: https://git-scm.com/docs/git-blame"
   ]
  },
  {
   "cell_type": "code",
   "execution_count": 276,
   "metadata": {},
   "outputs": [
    {
     "name": "stdout",
     "output_type": "stream",
     "text": [
      "2ee172f41 (Mark Emlyn David Thomas 2009-08-07 19:49:24 +0000 113)         list(request, response, message);\n"
     ]
    }
   ],
   "source": [
    "blame_data = repo.git.blame(\"-L113,+1\", fixing_commit + \"^\", \"--\", affected_file).splitlines()\n",
    "for line in blame_data:\n",
    "    print(line)"
   ]
  },
  {
   "cell_type": "markdown",
   "metadata": {},
   "source": [
    "# Show all the commit history between two commits"
   ]
  },
  {
   "cell_type": "markdown",
   "metadata": {},
   "source": [
    "Link: https://git-scm.com/docs/git-log <br> Watch out for initial commit (no parent commit)"
   ]
  },
  {
   "cell_type": "code",
   "execution_count": 277,
   "metadata": {
    "scrolled": true
   },
   "outputs": [
    {
     "name": "stdout",
     "output_type": "stream",
     "text": [
      "Number of commits in between: 523\n"
     ]
    }
   ],
   "source": [
    "last_commit = blame_data[0].strip().split()[0]\n",
    "log_data = repo.git.log(\"--oneline\", last_commit + \"..\" + fixing_commit + \"^\").splitlines()\n",
    "print(\"Number of commits in between:\", len(log_data))"
   ]
  },
  {
   "cell_type": "code",
   "execution_count": 278,
   "metadata": {},
   "outputs": [
    {
     "data": {
      "text/plain": [
       "['582e2765 Fix https://issues.apache.org/bugzilla/show_bug.cgi?id=50413 Ensure 304s are not returned when using static files as error pages',\n",
       " '2c30a819 propose additional patch for bug 50413',\n",
       " 'c4ada2fa vote and proposal',\n",
       " '4e094858 Upgrade Commons Daemon to version 1.0.5 Fixes various Windows platform issues.',\n",
       " '32c98ffa vote',\n",
       " '778ca208 Change vote.',\n",
       " 'dfe79169 Vote, Comment.',\n",
       " 'e0bc3c4a add a note and vote',\n",
       " '4fa8747d Propose backport of 47319 fix to TC 5.5',\n",
       " \"5fbf2eb0 Withdraw proposals. Manager & HostManager using httpOnly=true is fine with me (r1041251). Let's not force this option by default.\",\n",
       " 'aef68b74 Propose Commons Daemon update to 1.0.5',\n",
       " '41f7c1aa Proposal',\n",
       " '2d3155b9 Proposal',\n",
       " '01836948 Updated tc5 specific patch',\n",
       " '3f31dbd7 Improve documentation of database connection factory. Backport of r1053727 from trunk resp. r1054646 from TC6.',\n",
       " '74214bb3 Update copyright year.',\n",
       " '8f48a5ad change vote',\n",
       " 'bc88efd1 vote and proposal',\n",
       " '665452ba Proposals',\n",
       " 'f3bca655 vote',\n",
       " '2533afe9 Proposal',\n",
       " 'fc098ca3 Fix typo in script comment. BZ 50383, addition to r1040547, backport of r1040553 (trunk) and r1040555 (TC6).',\n",
       " '99e6821e Fix https://issues.apache.org/bugzilla/show_bug.cgi?id=50383 Comment typo',\n",
       " 'ad87364e ack that additional patch is required',\n",
       " '621137a5 Fix https://issues.apache.org/bugzilla/show_bug.cgi?id=50294 Add more information to documentation regarding format of configuration files. Patch provided by Luke Meyer.',\n",
       " '691c6054 proposal',\n",
       " '814dbe1c Propose installer patch for TC 5.5',\n",
       " '8dc9a9b7 Add a comment CTR',\n",
       " '5f3ef925 Correct a typo in a message (already fixed in trunk by r793945) CTR',\n",
       " 'f44386b1 Fix https://issues.apache.org/bugzilla/show_bug.cgi?id=49521 - Disable scanning for a free port in Jk AJP/1.3 connector by default. - Do not change maxPort field value of ChannelSocket in its #setPort() and #init() methods. - Add support for \"maxPort\" attribute on a <Connector> element as a synonym for channelSocket.maxPort',\n",
       " '745ec389 Update commons-daemon to 1.0.4 Update commons-pool to 1.5.5',\n",
       " '96b3ef67 vote',\n",
       " '2f1aff45 BZ50219: Fix typo in jndi-resources-howto.xml.',\n",
       " '05568c96 some votes',\n",
       " '14702936 Vote',\n",
       " 'abf4bc40 Propose update to pool 1.5.5.',\n",
       " 'a7ffe973 vote',\n",
       " '7bb1d5e8 Add license headers to NSIS *.ini files It is backport of r934192 CTR',\n",
       " 'b6e420fa Improve sending an access message in DeltaManager. maxInactiveInterval of not Manager but the session is used. If maxInactiveInterval is negative, an access message is not sending.',\n",
       " '073bb4d2 Fix https://issues.apache.org/bugzilla/show_bug.cgi?id=50131 Avoid possible NPE in debug output in PersistentValve. Based on the patch provided by sebb',\n",
       " '4b54a321 Vote.',\n",
       " '9912b157 Popose component version update',\n",
       " 'f4073cff Fix https://issues.apache.org/bugzilla/show_bug.cgi?id=49935 Handle compilation of recursive tag files',\n",
       " '53b9e4bf Avoid unnecessary cast',\n",
       " '99172d20 Vote',\n",
       " '3cc1fbe9 vote',\n",
       " '184ff5e8 proposal',\n",
       " 'c14306f7 Proposal',\n",
       " 'e04ef712 More backport votes.',\n",
       " '126e40b8 Vote.',\n",
       " '97c45d83 vote',\n",
       " 'b3057eae Proposal',\n",
       " '1bda6d2c vote',\n",
       " '149d78b0 Proposal',\n",
       " '256f43a5 CTR. Tabs -> 8 spaces. No functional change.',\n",
       " '369cf883 add release date for 5.5.31',\n",
       " '524f129e Remove applied patch',\n",
       " \"9dd63da0 Ensure POM files have correct line endings in source distributions. (rjung's patch)\",\n",
       " '4938d130 Vote',\n",
       " 'f6f5d2ff add missing patch and vote',\n",
       " '0ccb3ebe Proposal.',\n",
       " '0b10122e Pull JAF and Javamail when needed',\n",
       " '1dbdab72 More 5.5 build notes',\n",
       " '783ddfd5 Build is 1.4.2... use ugly method',\n",
       " 'f80704ca versioning change for jdk',\n",
       " '0b6c9f66 Get ready for 5.5.31',\n",
       " 'dc9fd7e1 Fix https://issues.apache.org/bugzilla/show_bug.cgi?id=49749 Add httpOnly support to SSO cookie',\n",
       " '9a6e2823 Move property to intended section',\n",
       " 'e726d38a Bugfix: Fix https://issues.apache.org/bugzilla/show_bug.cgi?id=38113',\n",
       " '7445f941 Add SSL with APR support to the admin app',\n",
       " '8f49186d Vote',\n",
       " 'ac547ce7 \"Final\" patch before 5.5.31...',\n",
       " '3d94f813 BZ 49869: Javadoc Fix.',\n",
       " 'eb56052b Remove setting distributable on the Context from the docs. It gets lost on webapp reload() e.g. when triggered from the manager app.',\n",
       " 'e8c8df23 Fine by me',\n",
       " '556eb7ee Update vote.',\n",
       " 'ffecbe6c vote and ask a question ;)',\n",
       " '9f256ddb build/build.xml',\n",
       " '35b0be71 Merge r982877 from trunk: Submitted by: kfujino Reviewed/backported by: jim',\n",
       " '31d0d223 promote all',\n",
       " '6f8a6f3a cast another and promote',\n",
       " '2a5613fc cast votes',\n",
       " 'b4abf6cc Vote.',\n",
       " '031ddadb proposal',\n",
       " '6e1b334d comment and vote',\n",
       " '3ee8cc1f Vote.',\n",
       " '7310940f Return a copy of the URL being used from the webapp class loader, not the original.',\n",
       " '424301b0 Vote',\n",
       " '24890d9e Proposal',\n",
       " 'd2105106 Proposal',\n",
       " '5f05bfa7 Fix https://issues.apache.org/bugzilla/show_bug.cgi?id=49718 a regression causes by wrongly applying the patch for https://issues.apache.org/bugzilla/show_bug.cgi?id=46984. The regression broke HTTP 0.9 requests. CTR since the correct patch has already been approved.',\n",
       " '6aa89ca9 Proposal',\n",
       " 'e22664fc No need for autoconf',\n",
       " '60ce2a30 proposal',\n",
       " 'a9ad0d72 Docs only CTR Fix https://issues.apache.org/bugzilla/show_bug.cgi?id=49585 Update for changes in Commons Daemon packaging',\n",
       " '07bf1b04 Vote, comment.',\n",
       " '8b9cdc85 Add svn:executable property to some script files and remove it from non-executable files.',\n",
       " '7b163cb6 Vote',\n",
       " '7c91b135 Propose a backport',\n",
       " '5d908ec4 proposal',\n",
       " 'e5a114dc Add release date',\n",
       " '76f60a3f vote',\n",
       " '7360354b Add trivial proposal (close to C-T-R).',\n",
       " '9130470a jim RMing 5.5.30',\n",
       " '52f64df3 Push for 5.5.30',\n",
       " 'ff0610bc Note Windows requirement',\n",
       " '4faaca93 Arrange filter logic. Back port of r958911.',\n",
       " 'aca9f890 some votes',\n",
       " \"0c845b31 Unix rev's... mostly for pre and post efforts. Still need Windoze to build the releases.\",\n",
       " '7574c395 Correct broken link on the index.html page of jsp-examples webapp. CTR',\n",
       " '0c779d36 Minor cleanups for AccessLogValve and FastCommonAccessLogValve classes Reuse StringBuffer, use char instead of single-char String, etc.',\n",
       " '9147564f Vote.',\n",
       " 'd1239c1d Vote',\n",
       " '915246cc Propose for back port.',\n",
       " 'f49d2898 Fix https://issues.apache.org/bugzilla/show_bug.cgi?id=49445 The change in session ID is notified to other node.',\n",
       " '5923a7c2 vote',\n",
       " 'ee69d6ed Vote',\n",
       " '03385f32 Fix https://issues.apache.org/bugzilla/show_bug.cgi?id=49424 Avoid NPE if client provides no data with a chunked POST request',\n",
       " 'b85e73b7 vote',\n",
       " '6db3b3d6 Fix https://issues.apache.org/bugzilla/show_bug.cgi?id=48990#c11 Do not omit exe and dll files in release builds built on Unixes, to align them with the official ones built on Windows. Add support for \"skip.installer\" property. Patch by kkolinko.',\n",
       " 'ec2f262f Fix https://issues.apache.org/bugzilla/show_bug.cgi?id=49196 Avoid NullPointerException in PageContext.getErrorData() if an error-handling JSP page is called directly.',\n",
       " '486fc47b Fix https://issues.apache.org/bugzilla/show_bug.cgi?id=48843#c8 Fix handling the add queue in AprEndpoint.Poller and AprEndpoint.Sendfile. Do not miss Object.notify() wakeup. Patch by kkolinko',\n",
       " 'de073fae Vote',\n",
       " '8f7e7a0b Fix Javadoc.',\n",
       " 'fecb73f7 proposal',\n",
       " 'd3b787dd vote',\n",
       " '862de120 Proposal for BZ49445.',\n",
       " 'cec50560 Votes',\n",
       " 'e6351596 CTR: add ASL license comment to the *.sh files and to a *.properties file',\n",
       " 'a9c6a3ab CTR: add ASL license comment to the *.bat files',\n",
       " '5028bd05 Correct description of a proposal',\n",
       " 'b7466d5d Fix https://issues.apache.org/bugzilla/show_bug.cgi?id=49398 Fixes behaviour of ByteChunk.indexOf(String..) when the string argument is of length 1.',\n",
       " 'c5b34b2d Vote.',\n",
       " '2f223454 proposal',\n",
       " '291902e0 proposal',\n",
       " '4f95cec2 CTR. Tabs to spaces.',\n",
       " '40b5f0e9 proposal',\n",
       " \"c3fd55cc Fix typo in web-resource-name (web.xml) for manager webapp. I assume it's CTR because edge case of docs/comment/trivial fix.\",\n",
       " '80523671 Fix typo/html syntax error in comment.',\n",
       " 'fe79fb07 Fix https://issues.apache.org/bugzilla/show_bug.cgi?id=48179 Improve processing of TLD cache file: - log TLD cache reading and writing errors - if reading a TLD cache fails then continue TLD scanning, instead of quiting - use finally{} block to close input/output streams when reading/writing the file',\n",
       " \"199431b8 Fix https://issues.apache.org/bugzilla/show_bug.cgi?id=47878 Return 404's rather than a permanent 500 if a JSP is deleted Make sure first response post deletion is correct\",\n",
       " 'fcddeb3d I got over it ;)',\n",
       " '9346e821 Additional fix for https://issues.apache.org/bugzilla/show_bug.cgi?id=48701 Take account of TagVariableInfo when implementing the rules of JSP.5.3',\n",
       " 'fe8a0259 Additional fix for https://issues.apache.org/bugzilla/show_bug.cgi?id=48840 Port the fix from catalina.sh to tool-wrapper.sh as well.',\n",
       " '4f568312 Vote.',\n",
       " '02ca1a45 Votes',\n",
       " '44909254 Fix possible overflows when calculating session statistics. It fixes a) miscalculating the \"average\" because of multiplication overflow, and b) possible ArithmeticException division by zero when numExpired overflows. The fix for trunk was provided by r934337.',\n",
       " 'b9ba650d proposal',\n",
       " '57d6bd14 proposal',\n",
       " '67812358 Fix https://issues.apache.org/bugzilla/show_bug.cgi?id=48840 If CDPATH is set, cd may result in output to stdout. Swallow the output. This is safe since the script outputs the value used for CATALINA_HOME so any issues will be visible then.',\n",
       " '45b148a9 Vote.',\n",
       " 'c21a49e6 vote',\n",
       " 'cad95d3a Update after review',\n",
       " '73dc63e8 Withdraw proposal',\n",
       " 'aaaf6f60 Fix https://issues.apache.org/bugzilla/show_bug.cgi?id=48717 When a node joins a cluster and it receives all the current sessions, ensure the sessionCreated event is fired if the Manager is configured to replicate session events',\n",
       " 'c534ee03 Update to Commons DBCP 1.3',\n",
       " \"c8baaffe Add ':' after bug number\",\n",
       " 'be676d95 Fix https://issues.apache.org/bugzilla/show_bug.cgi?id=49236 Do not use indexing when packing Tomcat JARs.',\n",
       " '1366f30e Vote',\n",
       " '51ba7016 Fix https://issues.apache.org/bugzilla/show_bug.cgi?id=49170 Do not send duplicated session.',\n",
       " '795b144a CTR: documentation It is backport of r941463 More anchor handling improvements: 1) escape \\'#\\' character as well as spaces. See virtual-hosting-howto.html for an example. 2) allow to explicitly specify anchor name, using anchor=\"\" attribute on a (sub)section. See default-servlet.html for an example.',\n",
       " '20a758dc votes',\n",
       " '81bd0898 Propose DBCP update',\n",
       " 'fdf79d04 Votes',\n",
       " '96fd0c98 Fix proposal',\n",
       " \"a2c5b7c9 Withdraw broken patch, vote for Konstantin's\",\n",
       " '6607e195 Add TOC',\n",
       " '5b936658 Correct a sentence',\n",
       " 'b4f521a4 Add TOC',\n",
       " 'dda9e5fd CTR: documentation Backport documentation stylesheet improvements from tc6.0.x This includes the following: - Support <rev> element to provide references to revision numbers (r631321, r918396) - Use CSS rules to provide printer-friendly layout: class=\"noPrint\" (r717913) The 5.5.x version of it differs from r717913 in the following: For compatibility, generation of a separate printer-friendly version of the docs with XSLT is still supported, and those pages will be uploaded to the site, though the links to them are removed. One of concerns is that deployer.zip includes print-fiendly version of its doc page, so it is needed for that as well, unless we change the build script. - Support for generation of table of contents using the <toc/> tag (r918073) - Provide disambiguation for anchor names, when there are subsections with the same name inside of different sections. See config/valve.html for an example. (r918916) - Use underscores instead of spaces in anchor names for sections, subsections. To preserve compatibility each (sub)section will generate two anchors: the old one and the new one, if they differ. (r941356)',\n",
       " \"54908715 Add sample Eclipse files with ALv2 headers. Align the svn ignores list and the excludes list for the src tarball. The sample Eclipse files will be included, the 'real' ones will be excluded.\",\n",
       " '15a6f341 proposal',\n",
       " 'f3707d7e CTR Set svn:keywords=Id where there is unexpanded $Id$ keyword in the files',\n",
       " '81495a43 CTR Replace $Date$ keyword with $Id$ in JavaDoc comments, because of its i18n and timezone issues (http://subversion.tigris.org/issues/show_bug.cgi?id=2332)',\n",
       " '7383894a CTR Replace $Date$ keyword with $Id$ in JavaDoc comments, because of its i18n and timezone issues (http://subversion.tigris.org/issues/show_bug.cgi?id=2332)',\n",
       " '6b1b6f7c CTR Replace $Date$ keyword with $Id$ in JavaDoc comments, because of its i18n and timezone issues (http://subversion.tigris.org/issues/show_bug.cgi?id=2332)',\n",
       " 'c30ff2b2 CTR Replace $Date$ keyword with $Id$ in JavaDoc comments, because of its i18n and timezone issues (http://subversion.tigris.org/issues/show_bug.cgi?id=2332)',\n",
       " 'de1a386b CTR Replace $Date$ keyword with $Id$ in JavaDoc comments, because of its i18n and timezone issues (http://subversion.tigris.org/issues/show_bug.cgi?id=2332)',\n",
       " '0f234e7b CTR Replace $Date$ keyword with $Id$ in JavaDoc comments, because of its i18n and timezone issues (http://subversion.tigris.org/issues/show_bug.cgi?id=2332)',\n",
       " '1b482ca0 CTR Replace $Date$ keyword with $Id$ in JavaDoc comments, because of its i18n and timezone issues (http://subversion.tigris.org/issues/show_bug.cgi?id=2332)',\n",
       " 'ae3814dd CTR Replace $Date$ keyword with $Id$ in JavaDoc comments, because of its i18n and timezone issues (http://subversion.tigris.org/issues/show_bug.cgi?id=2332)',\n",
       " '66049806 CTR Replace $Date$ keyword with $Id$ in JavaDoc comments, because of its i18n and timezone issues (http://subversion.tigris.org/issues/show_bug.cgi?id=2332)',\n",
       " 'fbd960b0 CTR Replace $Date$ keyword with $Id$ in JavaDoc comments, because of its i18n and timezone issues (http://subversion.tigris.org/issues/show_bug.cgi?id=2332)',\n",
       " '9e5fa066 CTR Replace $Date$ keyword with $Id$ in JavaDoc comments, because of its i18n and timezone issues (http://subversion.tigris.org/issues/show_bug.cgi?id=2332)',\n",
       " 'aeba5c4c CTR Replace $Date$ keyword with $Id$ in JavaDoc comments, because of its i18n and timezone issues (http://subversion.tigris.org/issues/show_bug.cgi?id=2332)',\n",
       " 'da1bf663 CTR Replace $Date$ keyword with $Id$ in JavaDoc comments, because of its i18n and timezone issues (http://subversion.tigris.org/issues/show_bug.cgi?id=2332)',\n",
       " 'f2a3c13c CTR Replace $Date$ keyword with $Id$ in JavaDoc comments, because of its i18n and timezone issues (http://subversion.tigris.org/issues/show_bug.cgi?id=2332)',\n",
       " '636187a7 CTR Replace $Date$ keyword with $Id$ in JavaDoc comments, because of its i18n and timezone issues (http://subversion.tigris.org/issues/show_bug.cgi?id=2332)',\n",
       " 'c3fb3f54 CTR Replace $Date$ keyword with $Id$ in JavaDoc comments, because of its i18n and timezone issues (http://subversion.tigris.org/issues/show_bug.cgi?id=2332)',\n",
       " '7ef11d55 Fix https://issues.apache.org/bugzilla/show_bug.cgi?id=49073 Improve shutdown port docs',\n",
       " '7cbc3cf2 vote',\n",
       " '4475a7e0 add release date for 5.5.29',\n",
       " 'dca3cae7 Proposal for BZ49170.',\n",
       " 'dabd4935 veto and propose another patch',\n",
       " '78e45a22 Fix CVE-2010-1157. Prevent possible disclosure of host name or IP address via the HTTP WWW-Authenticate header when using BASIC or DIGEST authentication.',\n",
       " \"e3104cfb update proposed patch to address Mark's review comment\",\n",
       " 'a641d5e2 proposal',\n",
       " 'cc6e0b2c Fix http://issues.apache.org/bugzilla/show_bug.cgi?id=44041 and avoid http://issues.apache.org/bugzilla/show_bug.cgi?id=48694 Fix duplicate class definition under load. Avoid possible deadlocks.',\n",
       " '619bbbde Fix https://issues.apache.org/bugzilla/show_bug.cgi?id=42390 and avoid https://issues.apache.org/bugzilla/show_bug.cgi?id=48616 Fix compilation error with some nested tag files and simple tags. Do not declare or synchronize scripting variables for JSP fragments since they are scriptless.',\n",
       " '6ad85f62 proposal',\n",
       " 'ecdf1e30 Fix https://issues.apache.org/bugzilla/show_bug.cgi?id=48843 Prevent possible deadlock for worker allocation in APR connectors',\n",
       " '27dc6fde Colons are consistently escaped in this file.',\n",
       " '34d1947a Fix localized message format which was forgotten in r918741. when backporting r891304/r904855 from TC 6.0.x to TC 5.5.x.',\n",
       " '6343f8e3 Fix download location for native binaries',\n",
       " '86eee38d Vote.',\n",
       " 'd7609e5d My votes. (the easy ones).',\n",
       " '994d6f6a Fix https://issues.apache.org/bugzilla/show_bug.cgi?id=48580 Prevent AccessControlException if first access is to a JSP that uses a FunctionMapper',\n",
       " '0d32d74e Use chunked encoding for http 1.1 requests with no content-length (regardless of keep-alive) so client can differentiate between complete and partial responses.',\n",
       " '434062c5 Backport AprLifecycleListener messages from TC 6.0. It fixes \"Cannot find message\" messages that are printed to the log when Tomcat is being started and Tomcat-Native library is present (kkolinko)',\n",
       " '2996a338 Update to NSIS 2.46 (kkolinko)',\n",
       " 'd447adf5 Fix https://issues.apache.org/bugzilla/show_bug.cgi?id=48613 Only attempt APR initialization if the <Listener> has been specified (fhanik/kkolinko)',\n",
       " 'a2c23a6a Fix https://issues.apache.org/bugzilla/show_bug.cgi?id=48701 Add system property to allow disabling enforcement of JSP.5.3. The spec recommends, but does not require this enforcement. (kkolinko)',\n",
       " '91046417 change my vote',\n",
       " 'b30a9130 Remove generics added in r932276',\n",
       " 'a749ba91 Vote.',\n",
       " 'b6599213 Fix https://issues.apache.org/bugzilla/show_bug.cgi?id=47774 Ensure web application class loader is used when calling session listeners.',\n",
       " '9db7bcbd votes',\n",
       " 'a9a4b30f Proposal',\n",
       " '78d5280c Votes',\n",
       " 'b213c929 Vote',\n",
       " 'cf9df6b6 proposal',\n",
       " '24d5c2b9 proposal',\n",
       " '3f2792e4 votes',\n",
       " '9271ec39 Proposal of fix of bz47774.',\n",
       " 'c8fcd4bc Update to Commons Daemon 1.0.2 and use procrun from upstream distribution',\n",
       " '7b4c4b76 vote',\n",
       " '0303fb7d Proposal',\n",
       " '5638da62 Proposal',\n",
       " 'bcb78c33 Remove Java 5 usage that was added in r902650',\n",
       " 'da9b1a47 Remove Java 5 usage that was added in r919406',\n",
       " '95bea4ac Adjust helper script to new SVN layout',\n",
       " '86ed9010 vote and proposal updated patch summary, because IIRC the \"Filip\\'s suggestion\" is not used in the proposed patch anymore',\n",
       " '93d1065b Alternative proposal',\n",
       " '34520a8b Prep for next release',\n",
       " '4fc6279a Vote and fix a typo',\n",
       " '0fa2c2f0 Vote on Konstantin patch and revoke my proposal, cause they are now the same',\n",
       " '22b6a198 update',\n",
       " '5bd02209 Use the correct patch file in STATUS.txt.',\n",
       " 'd58ecb90 -1 Konstantin daemon 1.0.2 patch cause it contains extra sections removed unrelated to the patch itself. Did I said I love the STATUS.txt file ;)',\n",
       " 'f239627d Oops. Copy/paste from 6.0 proposal',\n",
       " 'ef5416c9 Proposal for using daemon 1.0.2 and its binaries',\n",
       " \"3d4b4aab revoke my proposal and add veto to markt's\",\n",
       " '053ab399 proposal',\n",
       " '7a61eb0a proposal',\n",
       " '5665f531 proposal',\n",
       " '16ea6917 proposal',\n",
       " 'cf1bedcc Fix https://issues.apache.org/bugzilla/show_bug.cgi?id=48760 Remove race condition that can result in multiple threads trying to use the same InputStream (markt)',\n",
       " '61d21e29 https://issues.apache.org/bugzilla/show_bug.cgi?id=48007#c5 Improve exception processing in CustomObjectInputStream#resolveClass(), to help find the cause behind BZ 48007.',\n",
       " '67bd52b4 Correct MD5 generation in the build process.',\n",
       " 'c8724966 My votes.',\n",
       " 'ff2b585c vote',\n",
       " 'c2305d63 Fix https://issues.apache.org/bugzilla/show_bug.cgi?id=47997 Process changes for all naming contexts, not just the global one',\n",
       " '3fdfe232 Votes and proposal',\n",
       " 'af215688 proposal',\n",
       " '86904b73 vote and proposal',\n",
       " '4408bb3c Proposal',\n",
       " '7887178b Correct description for STRICT_QUOTE_ESCAPING system property C-T-R',\n",
       " 'b66f818a vote',\n",
       " 'c635e992 vote and proposal',\n",
       " '6ead2580 Move r919795 changelog entry to the end of the list.',\n",
       " 'e9b07dd7 Encode all property files using ascii escaped UTF-8.',\n",
       " '9137c974 Remove Nio connector reference from TC5.5 ssl-howto.xml It is a followup to r904859',\n",
       " '0605840d Vote',\n",
       " '25a833f1 Updated the patch',\n",
       " '14621c9d Vote',\n",
       " '72e4bfb8 proposal',\n",
       " 'e2353d29 proposal',\n",
       " 'bb107d4c trivial: correct a link on an image on the jsp-examples index page',\n",
       " '879ee6a5 vote',\n",
       " 'b0eba881 Update patch proposal. Thanks to Konstantin for observing one property file with missing eol-style svn property.',\n",
       " '6bffa2d7 Set missing svn properties. No functional change.',\n",
       " 'd436bd7f Add proposal.',\n",
       " 'b7c41a4e Correction',\n",
       " '7ba0374b * Fix https://issues.apache.org/bugzilla/show_bug.cgi?id=48109 Extend try/finally to ensure InputStream is closed',\n",
       " 'c8cedbdc Fix https://issues.apache.org/bugzilla/show_bug.cgi?id=48582 Avoid NPE on background compile',\n",
       " 'e1ab40c1 Vote',\n",
       " '197aaa50 Update patch with deadlock fix',\n",
       " '9fe55f06 Provide new option to allow = in cookie values',\n",
       " '5de41fb5 Fix https://issues.apache.org/bugzilla/show_bug.cgi?id=48322 Single quote in a cookie should be not be treated as a separator (markt)',\n",
       " '2a4dd8b6 Fix https://issues.apache.org/bugzilla/show_bug.cgi?id=47609 Implement fail-safe EOL conversion for source distributions Based on a patch provided by sebb',\n",
       " 'c7001c9b Update latest procrun builds',\n",
       " \"d48de20a Fix CVE-2009-3548. When installed via the Windows installer and using defaults, don't create an administrative user with a blank password. Additionally, the administrative user is only created if the manager or host-manager web applications are selected for installation.\",\n",
       " \"59fdeb5b Fix 'Error' part of https://issues.apache.org/bugzilla/show_bug.cgi?id=48584 Prevent the APR connector logging an error if the acceptor fails during shutdown since this is expected. Patch by mturk\",\n",
       " '0d2858cb Vote, comment.',\n",
       " 'fba21b0e Vote',\n",
       " '944714b9 Vote.',\n",
       " '1e60007e Fix https://issues.apache.org/bugzilla/show_bug.cgi?id=48686 Fix NPE in host delete',\n",
       " 'cb16e6a7 Fix https://issues.apache.org/bugzilla/show_bug.cgi?id=48581 Avoid security exception on first access',\n",
       " 'a74b5823 Fix https://issues.apache.org/bugzilla/show_bug.cgi?id=48004 Allow applications to set the Server header',\n",
       " 'b708642f Fix https://issues.apache.org/bugzilla/show_bug.cgi?id=47963 Prevent use of non-RFC2616 compliant custom status messages',\n",
       " '2bc388fe Address https://issues.apache.org/bugzilla/show_bug.cgi?id=45255 Prevent session fixation by providing option (disabled by default) to change session ID on authentication',\n",
       " 'a5c53700 Fix broken 5.5.x build - jkstatus has moved to tomcat/jk/trunk',\n",
       " '0ec7a5d7 Backport: Handle session suffix rewrite at JvmRouteBinderValve with parallel requests from same client (pero) Should have been applied at the same time o.a.c.cluster.session.JvMRouteBinderValve was patched',\n",
       " 'ef7c2db4 More whitespace alignment. No functional change.',\n",
       " 'eef4aa45 Align comments and whitespace between the two JvmRouteBinderValve implementations. No functional change.',\n",
       " '03e60ea5 Fix https://issues.apache.org/bugzilla/show_bug.cgi?id=47554 httpOnly flag not applied to migrated session cookie (should be been applied at same time as fix was applied to o.a.c.ha.session.JvmRouteBinderValve)',\n",
       " '787e1923 Align comments and whitespace between the two JvmRouteBinderValve implementations. No functional change.',\n",
       " \"9d1aaa8a Withdraw broken patch proposal, vote for Konstantin's new version\",\n",
       " '1987227e Fix https://issues.apache.org/bugzilla/show_bug.cgi?id=48577 Filter URL when displaying missing included page (markt)',\n",
       " 'd3a5a2f6 Fix https://issues.apache.org/bugzilla/show_bug.cgi?id=47987 Limit size of not found resources cache',\n",
       " '18b39395 Fix https://issues.apache.org/bugzilla/show_bug.cgi?id=48516 Fix possible NPE when user does not exist in directory Patch provided by Kevin Conaway',\n",
       " '66921117 Update recommended version for native to 1.1.19. (rjung) There is no need to up this to .20.',\n",
       " '9943d4f7 Move the entry for the tcnavive version fix to the Coyote subsection.',\n",
       " 'e8f2eee4 Update Tomcat-Native included in TC distributives to 1.1.20',\n",
       " '78abdce6 Remove unneeded line from the method that normalizes decodedURI.',\n",
       " '7879fea2 Properly close <head> tags (backport of r893499 from TC6)',\n",
       " 'a68b8409 propose a backport',\n",
       " 'b80725f5 changelog entry for r918418',\n",
       " '0f83054f Allow changelog.xml to be directly rendered as HTML by certain browsers.',\n",
       " '1e888403 Vote.',\n",
       " '2a01460e Remove obsolete mod_jk2 config files and also all files only used by mod_jk. Those have been copied over to JK trunk.',\n",
       " '1acd80c4 Move back jkstatus from TC 5.5.x connectors to jk. Although they are Java source files, it makes more sense to maintain them together with mod_jk, because they are tightly related to the JK status worker in each version.',\n",
       " '57da3584 vote and propose for 5.5',\n",
       " '0ec07b6c proposals',\n",
       " 'c56384f4 Remove quotes from example - they break it',\n",
       " 'c22c4bb4 vote',\n",
       " 'a391cc07 Proposal',\n",
       " 'a7f830e7 proposal',\n",
       " '33e9938f proposal',\n",
       " '7ba6fea5 vote',\n",
       " 'c9e15f3e Vote',\n",
       " 'bdb532c9 proposal',\n",
       " '47f01bd4 Proposal',\n",
       " 'eb554e43 Update the patch to one that applies cleanly',\n",
       " \"730ca550 Update proposal with fix. Remove Konstantin's vote as this is a very different patch\",\n",
       " 'bc9cb3bd Change vote due to regression',\n",
       " '005da83f vote',\n",
       " '453c7a48 Add bug reference',\n",
       " '71bbbfc9 Proposal',\n",
       " 'd9fea20b Votes',\n",
       " '7b621ffc Vote',\n",
       " '0ecd8681 Base proposal on 6.0.x version of patch',\n",
       " '181f7296 Fix Java 1.4/1.5 issues (5.5.x must compile with 1.4)',\n",
       " 'ab4ebe59 Fix https://issues.apache.org/bugzilla/show_bug.cgi?id=48311 Only the APR lifecycle listener should try and initialise APR Patch also syncs all APR lifecycle listener changes from 6.0.x to 5.5.x',\n",
       " 'fd062126 Fix https://issues.apache.org/bugzilla/show_bug.cgi?id=47554 httpOnly flag not applied to migrated session cookie',\n",
       " \"51832690 Withdraw my proposal, vote for Konstantin's\",\n",
       " '359c7ee1 Apply the alternative fix for CVE-2009-3555: SSL MITM',\n",
       " \"54e6a141 Withdraw my proposal, vote for Konstantin's\",\n",
       " \"de83a096 Update proposal in response to Konstantin's review\",\n",
       " '11e186ea Fix https://issues.apache.org/bugzilla/show_bug.cgi?id=47689 Enable the test Ant target to work',\n",
       " '9f88bd4d vote',\n",
       " '5297b6cd Update patch to use TC-Native 1.1.19. vote',\n",
       " '8f3dafb7 vote',\n",
       " '35c74d56 Fix https://issues.apache.org/bugzilla/show_bug.cgi?id=47744 Prevent medium term memory leak if using SSL under a security manager Based on a patch by Greg Vanore',\n",
       " '8b39129d Pre-load class required to obtain SSL key size if running under a security manager',\n",
       " '7f59afe4 Fix https://issues.apache.org/bugzilla/show_bug.cgi?id=47537 Return an error page rather than a zero length 200 response if the forward to the login or error page fails during FORM authentication',\n",
       " 'd7019117 Fix https://issues.apache.org/bugzilla/show_bug.cgi?id=48049 Fix copy and paste error so NamingContext.destroySubContext() works correctly Patch provided by gingyang.xu',\n",
       " '8ae38674 votes',\n",
       " 'aeb23e85 votes',\n",
       " '7d19cc9f Fix https://issues.apache.org/bugzilla/show_bug.cgi?id=47718 Correct file descriptor leak on context stop/reload Patch provided by George Sexton',\n",
       " 'f33559d3 Make the location of stdout and stderr output configurable. Leave the default as it always has been. Currently, one can reconfigure the location of all logfiles except this one. Patch by fhanik',\n",
       " '4dbdbfb6 Align server.xml installed by .exe installer with the one bundled in zip/tgz archives',\n",
       " 'f886636e votes',\n",
       " \"0299cb72 Various related (un)deploy improvements including: - better handling of failed (un)deployment - adding checking for invalid zip file entries that don't make sense in a WAR file - improved validation of WAR file names. These changes address CVE-2009-2693, CVE-2009-2901 and CVE-2009-2902.\",\n",
       " '8cdc3345 vote',\n",
       " '524dae97 votes',\n",
       " '2e8760dd Fix https://issues.apache.org/bugzilla/show_bug.cgi?id=48097 Avoid throwing an AccessControlException which can lead to a NoClassDefFoundError on first access of first jsp.',\n",
       " '71af025c https://issues.apache.org/bugzilla/show_bug.cgi?id=48097 Make WebappClassLoader to do not swallow AccessControlException',\n",
       " '239da498 Include root cause exception into the one produced by ApplicationContextFacade#doPrivileged()',\n",
       " '333e5f60 Fix https://issues.apache.org/bugzilla/show_bug.cgi?id=48532 Better documentation of the SSL connector defaults',\n",
       " '4df6c8c4 Proposal',\n",
       " '75d48c1e Fix https://issues.apache.org/bugzilla/show_bug.cgi?id=48530 Add info on the Server Status page to the Manager How-To Based on a patch by Arnaud Espy',\n",
       " '82616612 Proposal',\n",
       " 'f5c055d8 Trivial: comment-out untranslated messages, so that the English ones could be used',\n",
       " '7b4e68f0 proposals',\n",
       " '571b6b21 Update copyright year for TC 5.5.x.',\n",
       " 'b1fac3f6 Update proposal with better patch',\n",
       " '59b8ca64 proposal',\n",
       " 'c15fc968 Update commons-pool to 1.5.4',\n",
       " '4da3a7cd Patch already applied as r884964',\n",
       " 'b3566450 Fix https://issues.apache.org/bugzilla/show_bug.cgi?id=43327 Allow APR/native to work with IPv6',\n",
       " '9be44421 Fix https://issues.apache.org/bugzilla/show_bug.cgi?id=39844 Prevent NPE on non-HTTP forward',\n",
       " '585f035e Fix https://issues.apache.org/bugzilla/show_bug.cgi?id=39231 Make sure LoginModule.logout() is called when using JAASRealm',\n",
       " 'a860f33f Proposal',\n",
       " '9759a9a6 Withdraw proposal',\n",
       " \"42cb4e1d Add Konstantin's patch to add getter/setter\",\n",
       " '941860bb DeltaManager needs to replicate changed attributes even if session gets invalidated. Otherwise session listeners will not see the right data on the secondary nodes.',\n",
       " 'eafa2cf8 Vote and comment.',\n",
       " '7d4ae63f Proposal',\n",
       " 'a537a6c8 Withdraw patch that does not apply',\n",
       " 'fe0c69eb vote',\n",
       " '871f7ef2 Correct the issue number',\n",
       " '0b8880d9 votes',\n",
       " '86afba77 Fix https://issues.apache.org/bugzilla/show_bug.cgi?id=47769 Reword JNDI docs in an attempt to make clear why resource-ref elements appear to be optional',\n",
       " 'e1fb6638 Proposal',\n",
       " '05669ffc Proposal',\n",
       " '33ab6d3b Fix https://issues.apache.org/bugzilla/show_bug.cgi?id=48381 Add a note about case of host name',\n",
       " '5bcdeb76 Correct param name',\n",
       " 'a17c7d36 Proposal',\n",
       " '84e99be1 Chnagelog updates',\n",
       " '5d71d5e3 Fix https://issues.apache.org/bugzilla/show_bug.cgi?id=47656 Add information on system property replacement in config files.',\n",
       " 'a904f71c Proposal',\n",
       " 'cfb8601b Update procrun to 2.0.6',\n",
       " 'f819065b Fix https://issues.apache.org/bugzilla/show_bug.cgi?id=47507 Document the UserDatabaseRealm, in particular the readonly attribute of UserDartabase resources.',\n",
       " '1d8e6f75 Proposal',\n",
       " '54f7468d Votes',\n",
       " \"c5e5a4f0 CVE-2009-3555. Provide option to disable legacy SSL renegotiation. Based on Costin's patch for trunk with some modifications. Note an alternative patch is proposed but it requires some of the changes in this patch anyway.\",\n",
       " \"8d54c2ea Refix https://issues.apache.org/bugzilla/show_bug.cgi?id=37848 Don't output info messages when there is no terminal\",\n",
       " 'f3ac3373 These were updated to 17 due to other patches',\n",
       " '3b2abb1f Fix https://issues.apache.org/bugzilla/show_bug.cgi?id=46950 Adds support for SSL renegotiation when CLIENT-CERT auth is required due to a security constraint',\n",
       " '863bada4 Fix https://issues.apache.org/bugzilla/show_bug.cgi?id=46384 Correct synchronisation problem that leads to cluster members permanently disappearing',\n",
       " \"47a90509 No need to port fix to container/modules/groupcom/src/share/org/apache/catalina/tribes/membership/McastServiceImpl.java It uses the implementation from 6.0.x which Filip commented on the original bug (https://issues.apache.org/bugzilla/show_bug.cgi?id=46384#c3) that the 6.0.x implementation didn't exhibit this issue.\",\n",
       " \"127cd3d4 Spurious startup errors in the cluster Although the secondary node is able to retrieve all sessions, the main thread doesn't see the changed stateTransfered flag, and thus waits until the transfer timeout occurs. Observed on Solaris. Switching to volatile fixes it. Port of Rainer's patch (r814024) in trunk\",\n",
       " '49eaff54 Port r795052 from modules/ha to modules/cluster',\n",
       " '9fbe2b36 Fix regression in previous fix for https://issues.apache.org/bugzilla/show_bug.cgi?id=38797',\n",
       " '8c3c6c93 Proposal',\n",
       " 'e2617578 Proposal',\n",
       " '1dab34cb Proposal',\n",
       " '27185fb3 Proposal',\n",
       " 'c851e044 Proposal',\n",
       " '1525c59a Proposal',\n",
       " '58ca206c Propose alternative fix',\n",
       " 'd1f3c45e Proposal',\n",
       " '7b12110d Update patch',\n",
       " '41fc2343 Propose commons-pool update',\n",
       " '5c6fb67d propose backport',\n",
       " 'c2cdaa21 Withdraw patch whilst I review reported issues',\n",
       " '8cf25338 veto',\n",
       " 'c34230fa a comment and a backport proposal',\n",
       " '55dbf50a Propose limited cookie back ports',\n",
       " '8d87af0e vote',\n",
       " '8e7e0702 vote',\n",
       " '2b43f986 vote',\n",
       " \"e6307cd7 Close resource Stream in WebappClassLoader after read error It is Peter Rossbach's patch from tc6.0.x\",\n",
       " '94c5c4ca proposal',\n",
       " '15aa7023 propose installer patch',\n",
       " '64ebeb93 vote',\n",
       " '20e745ed Cast some votes',\n",
       " '18450833 Pull patches while we sort out issues',\n",
       " '65177398 Votes',\n",
       " '35b21dfa Proposal for cve-2009-3555 work-around',\n",
       " '46d74299 Cookie changes proposal',\n",
       " '3877d8bb Revoke patch that has concerns. Vote for the alternative one.',\n",
       " '5a81cc3a Proposal',\n",
       " '3d327c35 backport proposal',\n",
       " '8316d487 Add backport proposal.',\n",
       " '6d520b0c Fix BZ47712: Loading tcnative was broken in 5.5.28.',\n",
       " \"71599d42 Withdraw my patch - vote for Konstantin's\",\n",
       " 'd76c6dbe Trivial typo fix in comment.',\n",
       " \"3a3c2404 Deprecate the jni Thread class. It doesn't exist in Tomcat 6 and trunk.\",\n",
       " \"52d7a01a Deprecate the jni Buffer class. It doesn't exist in Tomcat 6 and trunk.\",\n",
       " '5c23fed0 veto and proposal',\n",
       " 'f314b741 proposals',\n",
       " 'ee4aba21 vote',\n",
       " '5c9bc2a3 votes',\n",
       " 'ba2ad4cb Add proposal.',\n",
       " 'cbea84e8 Update to pool 1.5.3',\n",
       " 'b4fcefcf Proposal',\n",
       " '1b979497 Fix https://issues.apache.org/bugzilla/show_bug.cgi?id=47826 Correct broken debug message',\n",
       " 'b1f922f1 Mostly done. See seperate list discussion.',\n",
       " '445d7bee Remove more obsolete test garbage from jni build.xml in TC 5.5.',\n",
       " '3d790ba7 Fix indentation. No functional change.',\n",
       " '6f84c18e Fix indentation',\n",
       " '6b63219b Remove examples and test related build target from TC 5.5 jni build.xml, because those need the native sources, and the tc 5.5 part of jni only contains the Java parts.',\n",
       " '7ad07345 Remove argument from Javadoc, that was erroneously added in r757218.',\n",
       " '55bcfea1 Recover status entry which got lost by my lost unintentionally voting commit.',\n",
       " 'f0d63d0d Vote.',\n",
       " '057ea15e votes',\n",
       " '098c5f5b Vote',\n",
       " '0d24ecac Proposal',\n",
       " '76f09a6e proposal',\n",
       " '5e85072f Remove native test and examples classes from TC 5.5 They have been recovered in native trunk and are also part of the native 1.1.x branch. They are not present in TC 6.0 and trunk.',\n",
       " '5f0c7606 Already fixed',\n",
       " 'dbe5b3f4 Fix https://issues.apache.org/bugzilla/show_bug.cgi?id=47225 Buffer length should be end-offset',\n",
       " '320d5213 Add additional permission required by JULI',\n",
       " '81e767be Fix a couple of Java 1.5 uses that should be 1.4 compatible',\n",
       " '30b95166 Fix https://issues.apache.org/bugzilla/show_bug.cgi?id=47777 Add release dates for previous releases to the changelog (for versions from 5.5.15 onwards)',\n",
       " 'c6c1fa57 Update tomcat-docs.xsl It is backport of rev.821208 from tc6.0.x',\n",
       " 'b65fc75a votes',\n",
       " 'eb0d9f74 votes',\n",
       " '907c3a3d Add proposal.',\n",
       " 'c6363b87 DeltaManager needs to replicate changed attributes even if session gets invalidated. Otherwise session listeners will not see the right data on the secondary nodes.',\n",
       " '5f4e0e21 Vote.',\n",
       " 'da98d05a Votes',\n",
       " '00fa21da Proposal',\n",
       " '8adef0c5 Proposal',\n",
       " '4e8dac50 Add proposals.',\n",
       " '8dd823e4 Proposal',\n",
       " '0df4215b BZ47852: Fix Javadoc errors. Patch by Sebb.',\n",
       " '30dab59c Proposal',\n",
       " 'bfb7fec7 Vote and comment.',\n",
       " '285fd6fb Proposal',\n",
       " '58cce1a1 Update proposal.',\n",
       " '8d78e121 Add proposal.',\n",
       " '2aa19395 Propose fix',\n",
       " '428e5982 Fix typo reported on users list',\n",
       " '3f93256c Add proposal.',\n",
       " '08c3ee6b Update proposal.',\n",
       " 'f440bb8c Good catch',\n",
       " '383428d0 Add proposal.',\n",
       " 'f281e6ce Regression in fix for 38797',\n",
       " '3d930045 Add missing patch',\n",
       " 'e16facd3 Fix build.xml comment. Backport from trunk.',\n",
       " 'cab16547 Vote',\n",
       " '07abd32d Fix comment - no functional change.',\n",
       " 'dd3e828f Proposal',\n",
       " '44d9936c Propose fix for 42390',\n",
       " \"5a7405b7 Revised patch that doesn't break the existing API. I left filip's vote in place it as the change just adds back the old method with a deprecation marker\",\n",
       " 'd4969430 Apply https://issues.apache.org/bugzilla/show_bug.cgi?id=47566 Update to NSIS 2.45 NSIS 2.45 Release notes: http://sourceforge.net/project/shownotes.php?release_id=688043',\n",
       " 'dd1842f0 Ignore an output directory',\n",
       " '02dcde3c Add another ignore for Eclipse',\n",
       " '19930aca Fix https://issues.apache.org/bugzilla/show_bug.cgi?id=47688 Patch provided by sebb, with minor mods for line length',\n",
       " '98622619 Fix https://issues.apache.org/bugzilla/show_bug.cgi?id=41824 Need to use canonical rather than binary form when writing code',\n",
       " 'f92fd349 Vote',\n",
       " '7825456f vote',\n",
       " '14e35cab Add .settings subdirectory used by Eclipse IDE to svn:ignore',\n",
       " '64b11723 Fix https://issues.apache.org/bugzilla/show_bug.cgi?id=46967 Better handling of errors when trying to use Manager.randomFile Based on a patch by Kirk Wolf It is backport of rev.777567 from tc6.0',\n",
       " 'fa173ca5 Fix https://issues.apache.org/bugzilla/show_bug.cgi?id=46907 Debug logging should not cause input stream to be swallowed http://svn.apache.org/viewvc?view=rev&revision=797168',\n",
       " 'b111855c Fix https://issues.apache.org/bugzilla/show_bug.cgi?id=41661 Thread safety issue in JspConfig.init() seen in production',\n",
       " 'e7b920e6 svn re-org updates',\n",
       " '57ac8794 Proposal',\n",
       " 'e22fab93 Move java/native split',\n",
       " '8eaa950f Move java/native split',\n",
       " 'f7a5e7e4 Move java/native split',\n",
       " 'a9583e3f jni has similar issue to jk',\n",
       " 'b254d516 More unpicking of jk java vs native Remove obsolete file',\n",
       " '625c4fb7 Move the java side of jk back to tc5.5.x',\n",
       " '88edb4c1 jk is native + java - need place to move the java back to',\n",
       " '067f8892 Move jk and jni/native out to their new locations',\n",
       " '728dfe44 Move ajp, doc and scan doc to the archive. If any of these are required, we can bring them back but probably in a util directory',\n",
       " '996f9f6f Merge the keys from connectors',\n",
       " '8a6e7aae Fix the build script.',\n",
       " \"0a9b0ace First pass at cleaning up obsolete files. Haven't tried building yet. That comes next. Also need to merge KEYS files.\"]"
      ]
     },
     "execution_count": 278,
     "metadata": {},
     "output_type": "execute_result"
    }
   ],
   "source": [
    "log_data"
   ]
  },
  {
   "cell_type": "code",
   "execution_count": null,
   "metadata": {},
   "outputs": [],
   "source": []
  },
  {
   "cell_type": "code",
   "execution_count": null,
   "metadata": {},
   "outputs": [],
   "source": []
  }
 ],
 "metadata": {
  "kernelspec": {
   "display_name": "Python 3",
   "language": "python",
   "name": "python3"
  },
  "language_info": {
   "codemirror_mode": {
    "name": "ipython",
    "version": 3
   },
   "file_extension": ".py",
   "mimetype": "text/x-python",
   "name": "python",
   "nbconvert_exporter": "python",
   "pygments_lexer": "ipython3",
   "version": "3.7.0"
  }
 },
 "nbformat": 4,
 "nbformat_minor": 2
}
